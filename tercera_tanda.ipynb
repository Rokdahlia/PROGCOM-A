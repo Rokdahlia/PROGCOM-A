{
  "nbformat": 4,
  "nbformat_minor": 0,
  "metadata": {
    "colab": {
      "provenance": [],
      "include_colab_link": true
    },
    "kernelspec": {
      "name": "python3",
      "display_name": "Python 3"
    },
    "language_info": {
      "name": "python"
    }
  },
  "cells": [
    {
      "cell_type": "markdown",
      "metadata": {
        "id": "view-in-github",
        "colab_type": "text"
      },
      "source": [
        "<a href=\"https://colab.research.google.com/github/Rokdahlia/PROGCOM-A/blob/main/tercera_tanda.ipynb\" target=\"_parent\"><img src=\"https://colab.research.google.com/assets/colab-badge.svg\" alt=\"Open In Colab\"/></a>"
      ]
    },
    {
      "cell_type": "markdown",
      "source": [
        "###1"
      ],
      "metadata": {
        "id": "nsNGmh8z4rxA"
      }
    },
    {
      "cell_type": "code",
      "execution_count": null,
      "metadata": {
        "colab": {
          "base_uri": "https://localhost:8080/"
        },
        "id": "o5kYqmPa3yjN",
        "outputId": "f89d5c1e-94fd-4ba2-c8f3-5c617628ee9f"
      },
      "outputs": [
        {
          "output_type": "stream",
          "name": "stdout",
          "text": [
            "El cuadrado de 5 es 25\n"
          ]
        }
      ],
      "source": [
        "def cuadrado(a):\n",
        "  return f\"El cuadrado de {a} es {a**2}\"\n",
        "a=cuadrado(5)\n",
        "print(a)"
      ]
    },
    {
      "cell_type": "code",
      "source": [
        "cuadrado=lambda x:(x**2)\n",
        "cuadrado(5)"
      ],
      "metadata": {
        "colab": {
          "base_uri": "https://localhost:8080/"
        },
        "id": "IYW5lXv0423W",
        "outputId": "e0678899-51ad-4375-84c5-17c5af979006"
      },
      "execution_count": null,
      "outputs": [
        {
          "output_type": "execute_result",
          "data": {
            "text/plain": [
              "25"
            ]
          },
          "metadata": {},
          "execution_count": 3
        }
      ]
    },
    {
      "cell_type": "markdown",
      "source": [
        "###2\n"
      ],
      "metadata": {
        "id": "vPWeaGjd5pOc"
      }
    },
    {
      "cell_type": "code",
      "source": [
        "import random\n",
        "def saludo(tali):\n",
        "  woli = [\n",
        "      f\"Hola {tali}, ¡qué alegría verte hoy!\",\n",
        "      f\"Bienvenido {tali}, espero que tu día sea increíble.\",\n",
        "      f\"¡Hola {tali}! Te estaba esperando con mucha energía positiva.\",\n",
        "      f\"Saludos cordiales, {tali}. Que todo te vaya excelente!\",\n",
        "      f\"¡Muy buenos días, {tali}! :)\",\n",
        "      f\"Qué gusto saludarte, {tali}. ¡Vamos por un gran día!\",\n",
        "      f\" {tali}, recuerda que eres una persona única y especial.\",\n",
        "      f\"¡Hola {tali}! Hoy es un gran día para sonreír.\",\n",
        "      f\"Bienvenido {tali}, que la luz te acompañe siempre.\",\n",
        "      f\"Hey {tali}! Me alegra mucho verte por aquí.\",\n",
        "      f\"Hola {tali}, que cada paso que des hoy te acerque a tus sueños.\",\n",
        "      f\"Saludos, {tali}! Que tengas un día lleno de magia.\",\n",
        "      f\" {tali}, eres una fuente de inspiración para los demás.\",\n",
        "      f\"¡Hola {tali}! Que la alegría sea tu compañera hoy.\",\n",
        "      f\"Bienvenido {tali}, Igracias por estar aquí!\",\n",
        "      f\"Qué honor tenerte aquí, {tali}. ;)\",\n",
        "      f\"¡Hola {tali}! Nunca olvides lo valioso que eres.\",\n",
        "      f\"Saludos cálidos para ti, {tali}.\",\n",
        "      f\"Hola {tali}, hoy es un día perfecto para empezar algo nuevo!\",\n",
        "      f\"¡Hola querido {tali}! Estoy feliz de compartir este momento contigo.\"\n",
        "  ]\n",
        "  return random.choice(woli)\n",
        "print(saludo(\"Anderson\"))"
      ],
      "metadata": {
        "colab": {
          "base_uri": "https://localhost:8080/"
        },
        "id": "UPvOIxor5kXA",
        "outputId": "fa974942-770d-44e7-9f9c-af7c01d805b9"
      },
      "execution_count": null,
      "outputs": [
        {
          "output_type": "stream",
          "name": "stdout",
          "text": [
            "¡Hola Anderson! Te estaba esperando con mucha energía positiva.\n"
          ]
        }
      ]
    },
    {
      "cell_type": "code",
      "source": [
        "saludos=lambda tali: random.choice([ f\"Hola {tali},qué alegría verte hoy!\",\n",
        "      f\"Bienvenido {tali}, espero que tu día sea increible.\",\n",
        "      f\"¡Hola {tali}! Te estaba esperando con mucha energía positiva.\",\n",
        "      f\"Saludos cordiales, {tali}. Que todo te vaya excelente!\",\n",
        "      f\"¡Muy buenos días, {tali}! :)\",\n",
        "      f\"Qué gusto saludarte, {tali}. ¡Vamos por un gran día!\",\n",
        "      f\"{tali}, recuerda que eres una persona única y especial.\",\n",
        "      f\"¡Hola {tali}! Hoy es un gran día para sonreír.\",\n",
        "      f\"Bienvenido {tali}, que la luz te acompañe siempre.\",\n",
        "      f\"Hey {tali}! Me alegra mucho verte por aquí.\",\n",
        "      f\"Hola {tali}, que cada paso que des hoy te acerque a tus sueños.\",\n",
        "      f\"Saludos, {tali}! Que tengas un día lleno de magia.\",\n",
        "      f\"{tali}, eres una fuente de inspiración para los demás.\",\n",
        "      f\"¡Hola {tali}! Que la alegría sea tu compañera hoy.\",\n",
        "      f\"Bienvenido {tali}, igracias por estar aquí!\",\n",
        "      f\"Qué honor tenerte aquí, {tali}. ;)\",\n",
        "      f\"Hola {tali}! Nunca olvides lo valioso que eres.\",\n",
        "      f\"Saludos cálidos para ti, {tali}.\",\n",
        "      f\"Hola {tali}, hoy es un día perfecto para empezar algo nuevo!\",\n",
        "      f\"¡Hola querido {tali}! Estoy feliz de compartir este momento contigo.\"])\n",
        "saludos(\"Anderson\")"
      ],
      "metadata": {
        "colab": {
          "base_uri": "https://localhost:8080/",
          "height": 35
        },
        "id": "jKqBqQ8J-i89",
        "outputId": "ffd8a0cf-fb27-4e05-968a-017ed8255759"
      },
      "execution_count": null,
      "outputs": [
        {
          "output_type": "execute_result",
          "data": {
            "text/plain": [
              "'Bienvenido Anderson, que la luz te acompañe siempre.'"
            ],
            "application/vnd.google.colaboratory.intrinsic+json": {
              "type": "string"
            }
          },
          "metadata": {},
          "execution_count": 22
        }
      ]
    },
    {
      "cell_type": "markdown",
      "source": [
        "###3"
      ],
      "metadata": {
        "id": "Xc6-GWK6AyEY"
      }
    },
    {
      "cell_type": "code",
      "source": [
        "def ma(a,b):\n",
        "  print(f\"La suma de {a} + {b} es {a+b}\")\n",
        "  print(f\"La resta de {a} - {b} es {a-b}\")\n",
        "  print(f\"La multiplicación de {a} + {b} es {a*b}\")\n",
        "  print(f\"La divición de {a} + {b} es {a/b}\")\n",
        "ma(2,9)"
      ],
      "metadata": {
        "colab": {
          "base_uri": "https://localhost:8080/"
        },
        "id": "7TL8RgFNAzqd",
        "outputId": "f31194b2-10d4-4019-d6db-b05993ce0484"
      },
      "execution_count": null,
      "outputs": [
        {
          "output_type": "stream",
          "name": "stdout",
          "text": [
            "La suma de 2 + 9 es 11\n",
            "La resta de 2 - 9 es -7\n",
            "La multiplicación de 2 + 9 es 18\n",
            "La divición de 2 + 9 es 0.2222222222222222\n"
          ]
        }
      ]
    },
    {
      "cell_type": "code",
      "source": [
        "ma=lambda a,b:(a+b,a-b,a*b,a/b)\n",
        "ma (2,9)"
      ],
      "metadata": {
        "colab": {
          "base_uri": "https://localhost:8080/"
        },
        "id": "6TeHbOvABO5M",
        "outputId": "1de6ac15-99a1-4c9a-8f06-6acab66a053f"
      },
      "execution_count": null,
      "outputs": [
        {
          "output_type": "execute_result",
          "data": {
            "text/plain": [
              "(11, -7, 18, 0.2222222222222222)"
            ]
          },
          "metadata": {},
          "execution_count": 24
        }
      ]
    },
    {
      "cell_type": "markdown",
      "source": [
        "###4\n"
      ],
      "metadata": {
        "id": "0ne_ULyJBZ8H"
      }
    },
    {
      "cell_type": "code",
      "source": [
        "def edad(a):\n",
        "  if a>=18:\n",
        "    print(\"eres mayor de edad\")\n",
        "  else:\n",
        "    print(\"eres menor de edad\")\n",
        "    return\n",
        "edad (19)"
      ],
      "metadata": {
        "colab": {
          "base_uri": "https://localhost:8080/"
        },
        "id": "Tb2O-ZMPBbc9",
        "outputId": "011d0a59-49f9-4d2d-931c-08eeb112939a"
      },
      "execution_count": null,
      "outputs": [
        {
          "output_type": "stream",
          "name": "stdout",
          "text": [
            "eres mayor de edad\n"
          ]
        }
      ]
    },
    {
      "cell_type": "code",
      "source": [
        "edad=lambda a:(\"eres mayor de edad\" if a>=18 else \"eres menor de edad\")\n",
        "edad (13)"
      ],
      "metadata": {
        "colab": {
          "base_uri": "https://localhost:8080/",
          "height": 35
        },
        "id": "g6isSyVoB1OA",
        "outputId": "546db4f4-8822-4421-d6f8-3ad2a7c8c37f"
      },
      "execution_count": null,
      "outputs": [
        {
          "output_type": "execute_result",
          "data": {
            "text/plain": [
              "'eres menor de edad'"
            ],
            "application/vnd.google.colaboratory.intrinsic+json": {
              "type": "string"
            }
          },
          "metadata": {},
          "execution_count": 26
        }
      ]
    },
    {
      "cell_type": "markdown",
      "source": [
        "###5\n"
      ],
      "metadata": {
        "id": "C3De5IIlB7Uk"
      }
    },
    {
      "cell_type": "code",
      "source": [
        "def pali(t):\n",
        "  if t == t[::-1]:\n",
        "    print(\"es palindromo\")\n",
        "  else:\n",
        "    print(\"no es palindromo\")\n",
        "pali(\"woli\")"
      ],
      "metadata": {
        "colab": {
          "base_uri": "https://localhost:8080/"
        },
        "id": "xsOCd0geB9WX",
        "outputId": "a8c8ee1a-c69e-4131-e465-00dd72445ef0"
      },
      "execution_count": null,
      "outputs": [
        {
          "output_type": "stream",
          "name": "stdout",
          "text": [
            "no es palindromo\n"
          ]
        }
      ]
    },
    {
      "cell_type": "code",
      "source": [
        "pali=lambda t: \"es palindromo\" if t==t[::-1] else \"no es palindromo\"\n",
        "pali(\"aña\")"
      ],
      "metadata": {
        "colab": {
          "base_uri": "https://localhost:8080/",
          "height": 35
        },
        "id": "6bbJzUlHCCqJ",
        "outputId": "a9853e70-3daa-4d1c-85aa-daeed69eb219"
      },
      "execution_count": null,
      "outputs": [
        {
          "output_type": "execute_result",
          "data": {
            "text/plain": [
              "'es palindromo'"
            ],
            "application/vnd.google.colaboratory.intrinsic+json": {
              "type": "string"
            }
          },
          "metadata": {},
          "execution_count": 28
        }
      ]
    },
    {
      "cell_type": "markdown",
      "source": [
        "###6"
      ],
      "metadata": {
        "id": "mdHfn8evB95F"
      }
    },
    {
      "cell_type": "code",
      "source": [
        "def y(g):\n",
        "  print(len(g))\n",
        "y(\"hola\")\n",
        "y(\"rtvtyjjjfjraf\")"
      ],
      "metadata": {
        "colab": {
          "base_uri": "https://localhost:8080/"
        },
        "id": "ZjmpWyXUB_XT",
        "outputId": "13d837a3-88fd-4d07-d3cb-4dda2580ff6f"
      },
      "execution_count": null,
      "outputs": [
        {
          "output_type": "stream",
          "name": "stdout",
          "text": [
            "4\n",
            "13\n"
          ]
        }
      ]
    },
    {
      "cell_type": "code",
      "source": [
        "y=lambda g: len(g)\n",
        "y(\"tolo\")"
      ],
      "metadata": {
        "colab": {
          "base_uri": "https://localhost:8080/"
        },
        "id": "qJocoEzTCDEI",
        "outputId": "59a43116-bff8-4f03-a514-ce101e7529de"
      },
      "execution_count": null,
      "outputs": [
        {
          "output_type": "execute_result",
          "data": {
            "text/plain": [
              "4"
            ]
          },
          "metadata": {},
          "execution_count": 30
        }
      ]
    },
    {
      "cell_type": "markdown",
      "source": [
        "###7"
      ],
      "metadata": {
        "id": "2tJQtEsnCAF0"
      }
    },
    {
      "cell_type": "code",
      "source": [
        "def t(f):\n",
        "  return sum(f)\n",
        "print(t([1,2,3,4,5]))"
      ],
      "metadata": {
        "colab": {
          "base_uri": "https://localhost:8080/"
        },
        "id": "Qyf2evheCBgi",
        "outputId": "cfdeacc0-1613-4790-d9a1-5737722e0d09"
      },
      "execution_count": null,
      "outputs": [
        {
          "output_type": "stream",
          "name": "stdout",
          "text": [
            "15\n"
          ]
        }
      ]
    },
    {
      "cell_type": "code",
      "source": [
        "t=lambda f:sum(f)\n",
        "print(t([1, 2, 3, 4, 5]))"
      ],
      "metadata": {
        "colab": {
          "base_uri": "https://localhost:8080/"
        },
        "id": "mxJtSJolCDWm",
        "outputId": "0c1feb62-33fe-4890-c79b-393a59dbdd7d"
      },
      "execution_count": null,
      "outputs": [
        {
          "output_type": "stream",
          "name": "stdout",
          "text": [
            "15\n"
          ]
        }
      ]
    },
    {
      "cell_type": "markdown",
      "source": [
        "###8"
      ],
      "metadata": {
        "id": "nPquhGQWDhM_"
      }
    },
    {
      "cell_type": "code",
      "source": [
        "def m(u):\n",
        "  print(max(u),min(u))\n",
        "m([1,2,3,4,5])"
      ],
      "metadata": {
        "colab": {
          "base_uri": "https://localhost:8080/"
        },
        "id": "mM9kI0EQDqmo",
        "outputId": "635f05a7-5b69-4e92-ca2f-625ef5bd81e9"
      },
      "execution_count": null,
      "outputs": [
        {
          "output_type": "stream",
          "name": "stdout",
          "text": [
            "5 1\n"
          ]
        }
      ]
    },
    {
      "cell_type": "code",
      "source": [
        "m=lambda u: (max(u),min(u))\n",
        "print(m([1,2,3,4,5]))"
      ],
      "metadata": {
        "colab": {
          "base_uri": "https://localhost:8080/"
        },
        "id": "DHt_utpuDyWW",
        "outputId": "5e8abd81-96af-4250-f9d4-2be59c743e4f"
      },
      "execution_count": null,
      "outputs": [
        {
          "output_type": "stream",
          "name": "stdout",
          "text": [
            "(5, 1)\n"
          ]
        }
      ]
    },
    {
      "cell_type": "markdown",
      "source": [
        "###9"
      ],
      "metadata": {
        "id": "Mx_0bHx3D1HU"
      }
    },
    {
      "cell_type": "code",
      "source": [
        "def b(kl):\n",
        "  print(kl[::-1])\n",
        "b([1,2,3,4,5])"
      ],
      "metadata": {
        "colab": {
          "base_uri": "https://localhost:8080/"
        },
        "id": "T2SXlLs6D4Oi",
        "outputId": "d396e1b8-f973-41dd-cce1-9f6e840c99f3"
      },
      "execution_count": null,
      "outputs": [
        {
          "output_type": "stream",
          "name": "stdout",
          "text": [
            "[5, 4, 3, 2, 1]\n"
          ]
        }
      ]
    },
    {
      "cell_type": "code",
      "source": [
        "b=lambda kl: (kl[::-1])\n",
        "print(b([1,2,3,4,5]))"
      ],
      "metadata": {
        "colab": {
          "base_uri": "https://localhost:8080/"
        },
        "id": "hQpL8UNKEMop",
        "outputId": "9c0e6779-660a-4268-d6d3-22aa29382806"
      },
      "execution_count": null,
      "outputs": [
        {
          "output_type": "stream",
          "name": "stdout",
          "text": [
            "[5, 4, 3, 2, 1]\n"
          ]
        }
      ]
    },
    {
      "cell_type": "markdown",
      "source": [
        "###10"
      ],
      "metadata": {
        "id": "PO4543qtES8F"
      }
    },
    {
      "cell_type": "code",
      "source": [
        "def kj(dl):\n",
        "  resultado = []\n",
        "  for h in dl:\n",
        "    if h[0].lower() in \"aeiou\":\n",
        "      resultado.append(h)\n",
        "  return resultado\n",
        "\n",
        "nombres = [\"Uriel\", \"Oscar\", \"Pedro\", \"Elena\", \"Ana\", \"Sofía\", \"Ignacio\", \"Maria\"]\n",
        "print(kj(nombres))"
      ],
      "metadata": {
        "colab": {
          "base_uri": "https://localhost:8080/"
        },
        "id": "bzMwALtZEU8L",
        "outputId": "a55f33d8-e593-47a9-abf2-a30cf0506264"
      },
      "execution_count": null,
      "outputs": [
        {
          "output_type": "stream",
          "name": "stdout",
          "text": [
            "['Uriel', 'Oscar', 'Elena', 'Ana', 'Ignacio']\n"
          ]
        }
      ]
    },
    {
      "cell_type": "code",
      "source": [
        "kj = lambda dl: [h for h in dl if h[0].lower() in \"aeiou\"]\n",
        "nombres = [\"Uriel\", \"Oscar\", \"Pedro\", \"Elena\", \"Ana\", \"Sofía\", \"Ignacio\", \"Maria\"]\n",
        "print(kj(nombres))"
      ],
      "metadata": {
        "colab": {
          "base_uri": "https://localhost:8080/"
        },
        "id": "onUIKe6QFfBA",
        "outputId": "9aa784b8-1330-48ab-9ed6-5e658e1caf31"
      },
      "execution_count": null,
      "outputs": [
        {
          "output_type": "stream",
          "name": "stdout",
          "text": [
            "['Uriel', 'Oscar', 'Elena', 'Ana', 'Ignacio']\n"
          ]
        }
      ]
    },
    {
      "cell_type": "markdown",
      "source": [
        "###11"
      ],
      "metadata": {
        "id": "iUWeoNJeF3hk"
      }
    },
    {
      "cell_type": "code",
      "source": [
        "def v(hg):\n",
        " return list(set(hg))\n",
        "print(v([1, 2, 2, 3, 4, 4, 5, 4, \"f\", \"f\"]))"
      ],
      "metadata": {
        "colab": {
          "base_uri": "https://localhost:8080/"
        },
        "id": "-cUOtOvdF4zf",
        "outputId": "634523ff-fc3e-4c18-bbc0-52f4ebc49094"
      },
      "execution_count": null,
      "outputs": [
        {
          "output_type": "stream",
          "name": "stdout",
          "text": [
            "[1, 2, 3, 4, 5, 'f']\n"
          ]
        }
      ]
    },
    {
      "cell_type": "code",
      "source": [
        "v=lambda hg: list(set(hg))\n",
        "print(v([1, 2, 2, 3, 4, 4, 5, 4, \"f\", \"f\"]))"
      ],
      "metadata": {
        "colab": {
          "base_uri": "https://localhost:8080/"
        },
        "id": "oUonyT-1F5FO",
        "outputId": "a34dae3d-6f4b-4b37-b0b8-846339a99c02"
      },
      "execution_count": null,
      "outputs": [
        {
          "output_type": "stream",
          "name": "stdout",
          "text": [
            "[1, 2, 3, 4, 5, 'f']\n"
          ]
        }
      ]
    },
    {
      "cell_type": "markdown",
      "source": [
        "###12"
      ],
      "metadata": {
        "id": "jWCE6xN1GgpD"
      }
    },
    {
      "cell_type": "code",
      "source": [
        "def primos_en_lista(ef):\n",
        "    wa=[]\n",
        "    for n in ef:\n",
        "        if n > 1:\n",
        "          shi = True\n",
        "          for i in range(2, n):\n",
        "              if n % i == 0:\n",
        "                  shi = False\n",
        "                  break\n",
        "\n",
        "        if shi:\n",
        "\n",
        "          wa.append(n)\n",
        "\n",
        "    return wa\n",
        "\n",
        "numeros = [2, 3, 4, 5, 6, 7, 8, 9, 10, 11,13,15,17]\n",
        "print(primos_en_lista(numeros))"
      ],
      "metadata": {
        "colab": {
          "base_uri": "https://localhost:8080/"
        },
        "id": "YJMryTT9GksE",
        "outputId": "40df5b11-dcb3-4099-d740-31f7443d3ced"
      },
      "execution_count": null,
      "outputs": [
        {
          "output_type": "stream",
          "name": "stdout",
          "text": [
            "[2, 3, 5, 7, 11, 13, 17]\n"
          ]
        }
      ]
    },
    {
      "cell_type": "code",
      "source": [
        "df = lambda ef: [n for n in ef if n > 1 and all(n % i != 0 for i in range(2, n))]\n",
        "numeros = [2, 3, 4, 5, 6, 7, 8, 9, 10, 11, 13, 15, 17]\n",
        "print(primos_en_lista(numeros))"
      ],
      "metadata": {
        "colab": {
          "base_uri": "https://localhost:8080/"
        },
        "id": "VgLB0V7nGk-0",
        "outputId": "14b80ff3-a057-47f3-ade5-7f022a12da5f"
      },
      "execution_count": null,
      "outputs": [
        {
          "output_type": "stream",
          "name": "stdout",
          "text": [
            "[2, 3, 5, 7, 11, 13, 17]\n"
          ]
        }
      ]
    },
    {
      "cell_type": "markdown",
      "source": [
        "###13"
      ],
      "metadata": {
        "id": "e4JBbsoWITvX"
      }
    },
    {
      "cell_type": "code",
      "source": [
        "def ms(dic):\n",
        "    nombre = dic[\"nombre\"]\n",
        "    edad = dic[\"edad\"]\n",
        "    return f\"El nombre es {nombre} y tiene {edad} años.\"\n",
        "persona = {\"nombre\": \"Ana\", \"edad\": 25}\n",
        "print(ms(persona))"
      ],
      "metadata": {
        "colab": {
          "base_uri": "https://localhost:8080/"
        },
        "id": "mQDmAc87IVdU",
        "outputId": "232882ee-3f85-4661-e9fa-1031fb560465"
      },
      "execution_count": null,
      "outputs": [
        {
          "output_type": "stream",
          "name": "stdout",
          "text": [
            "El nombre es Ana y tiene 25 años.\n"
          ]
        }
      ]
    },
    {
      "cell_type": "code",
      "source": [
        "ms = lambda dic: f\"El nombre es {dic['nombre']} y tiene {dic['edad']} años.\"\n",
        "persona = {\"nombre\": \"Carlos\", \"edad\": 30}\n",
        "print(ms(persona))"
      ],
      "metadata": {
        "colab": {
          "base_uri": "https://localhost:8080/"
        },
        "id": "HA5TOHiCIVyL",
        "outputId": "e8e8ea04-00f7-4718-dc96-39f96750f7e5"
      },
      "execution_count": null,
      "outputs": [
        {
          "output_type": "stream",
          "name": "stdout",
          "text": [
            "El nombre es Carlos y tiene 30 años.\n"
          ]
        }
      ]
    },
    {
      "cell_type": "markdown",
      "source": [
        "###14"
      ],
      "metadata": {
        "id": "4Yc3djAOJl3T"
      }
    },
    {
      "cell_type": "code",
      "source": [
        "def xz(qu):\n",
        "    ab=0\n",
        "    for rt in qu.values():\n",
        "      ab += rt\n",
        "    return ab\n",
        "productos = {\"pan\": 3088, \"leche\": 4598, \"queso\": 12000}\n",
        "print(xz(productos))"
      ],
      "metadata": {
        "colab": {
          "base_uri": "https://localhost:8080/"
        },
        "id": "tpgRBjUcJov_",
        "outputId": "2ed3339c-63f2-45c0-de92-7970ac194b47"
      },
      "execution_count": null,
      "outputs": [
        {
          "output_type": "stream",
          "name": "stdout",
          "text": [
            "19686\n"
          ]
        }
      ]
    },
    {
      "cell_type": "code",
      "source": [
        "xz = lambda qu: sum(qu.values())\n",
        "productos = {\"pan\": 3000, \"leche\": 4500, \"queso\": 12000}\n",
        "print(xz(productos))"
      ],
      "metadata": {
        "colab": {
          "base_uri": "https://localhost:8080/"
        },
        "id": "aSrFtUFlJo8e",
        "outputId": "a6d78a85-61d3-418f-c1dd-2875d4531dc0"
      },
      "execution_count": null,
      "outputs": [
        {
          "output_type": "stream",
          "name": "stdout",
          "text": [
            "19500\n"
          ]
        }
      ]
    },
    {
      "cell_type": "markdown",
      "source": [
        "###15"
      ],
      "metadata": {
        "id": "FmwJRCezJpRo"
      }
    },
    {
      "cell_type": "code",
      "source": [
        "def kl(zx):\n",
        "    rt = sum(zx.values())\n",
        "    qp = len(zx)\n",
        "    return rt / qp if qp > 0 else o\n",
        "st = {\"Ana\": 4.5, \"Carlos\": 3.8, \"Maria\": 4.2}\n",
        "print(kl(st))"
      ],
      "metadata": {
        "colab": {
          "base_uri": "https://localhost:8080/"
        },
        "id": "slSwYrU3JrEN",
        "outputId": "6349ee52-a61c-4368-81c3-0575d6e06add"
      },
      "execution_count": null,
      "outputs": [
        {
          "output_type": "stream",
          "name": "stdout",
          "text": [
            "4.166666666666667\n"
          ]
        }
      ]
    },
    {
      "cell_type": "code",
      "source": [
        "k1= lambda zx: sum(zx.values()) / len(zx) if len(zx) > 0 else 9\n",
        "st = {\"Ana\": 4.5, \"Carlos\": 3.8, \"Maria\": 4.2}\n",
        "print(kl(st))"
      ],
      "metadata": {
        "colab": {
          "base_uri": "https://localhost:8080/"
        },
        "id": "mTde46-nJrOu",
        "outputId": "67447293-fee7-4774-b30f-4144db1e96c0"
      },
      "execution_count": null,
      "outputs": [
        {
          "output_type": "stream",
          "name": "stdout",
          "text": [
            "4.166666666666667\n"
          ]
        }
      ]
    },
    {
      "cell_type": "markdown",
      "source": [
        "###16"
      ],
      "metadata": {
        "id": "WcmcghB3Jrku"
      }
    },
    {
      "cell_type": "code",
      "source": [
        "def hj(xz, nm):\n",
        "    return xz[nm] if nm in xz else \"no encontrado\"\n",
        "st = {\"Ana\": 4.5, \"Carlos\": 3.8, \"Maria\": 4.9}\n",
        "print(hj(st, \"Carlos\"))\n",
        "print(hj(st, \"pedro\"))"
      ],
      "metadata": {
        "colab": {
          "base_uri": "https://localhost:8080/"
        },
        "id": "xM-3_nczJs94",
        "outputId": "a836a97f-bccf-4da4-fac8-cc6eb4e26415"
      },
      "execution_count": null,
      "outputs": [
        {
          "output_type": "stream",
          "name": "stdout",
          "text": [
            "3.8\n",
            "no encontrado\n"
          ]
        }
      ]
    },
    {
      "cell_type": "code",
      "source": [
        "hj = lambda xz, nm: xz[nm] if nm in xz else \"no encontrado\"\n",
        "st = {\"Ana\": 4.5, \"Carlos\": 3.8, \"Maria\": 4.9}\n",
        "print(hj(st, \"Ana\"))\n",
        "print(hj(st, \"Luis\"))"
      ],
      "metadata": {
        "colab": {
          "base_uri": "https://localhost:8080/"
        },
        "id": "sf0pedHpJtIu",
        "outputId": "862acbce-6f4b-4dcc-cfdd-5f71cdeaf794"
      },
      "execution_count": null,
      "outputs": [
        {
          "output_type": "stream",
          "name": "stdout",
          "text": [
            "4.5\n",
            "no encontrado\n"
          ]
        }
      ]
    },
    {
      "cell_type": "markdown",
      "source": [
        "###17"
      ],
      "metadata": {
        "id": "DvnmJYjVJtbI"
      }
    },
    {
      "cell_type": "code",
      "source": [
        "def fg(y):\n",
        "    ab = max(y, key=y.get)\n",
        "    return ab\n",
        "st = {\"Ana\": 4.5, \"Carlos\": 3.8, \"Maria\": 4.9}\n",
        "print(fg(st))"
      ],
      "metadata": {
        "colab": {
          "base_uri": "https://localhost:8080/"
        },
        "id": "CbS5UQ4_Ju45",
        "outputId": "33901739-96c7-450f-86bc-f562980b13fd"
      },
      "execution_count": null,
      "outputs": [
        {
          "output_type": "stream",
          "name": "stdout",
          "text": [
            "Maria\n"
          ]
        }
      ]
    },
    {
      "cell_type": "code",
      "source": [
        "fg= lambda xy: max(xy, key=xy.get)\n",
        "st = {\"Ana\": 4.5, \"Carlos\": 3.8, \"Maria\": 4.9}\n",
        "print(fg(st))"
      ],
      "metadata": {
        "colab": {
          "base_uri": "https://localhost:8080/"
        },
        "id": "yXsijoa1JvDj",
        "outputId": "fb55d4cf-0b21-47ba-fa65-bc702d683396"
      },
      "execution_count": null,
      "outputs": [
        {
          "output_type": "stream",
          "name": "stdout",
          "text": [
            "Maria\n"
          ]
        }
      ]
    },
    {
      "cell_type": "markdown",
      "source": [
        "###18"
      ],
      "metadata": {
        "id": "LHOh06bINT64"
      }
    },
    {
      "cell_type": "code",
      "source": [
        "def rt(qu, vl):\n",
        "    rs = {}\n",
        "    for k, v in qu.items():\n",
        "        if v > vl:\n",
        "            rs[k] = v\n",
        "    return rs\n",
        "pr = {\"pan\": 3000, \"leche\": 4500, \"queso\": 12000, \"huevos\": 2000}\n",
        "print(rt(pr, 4000))"
      ],
      "metadata": {
        "colab": {
          "base_uri": "https://localhost:8080/"
        },
        "id": "-tKF4JV1NaI2",
        "outputId": "d90f84d3-a2c1-453a-c0d7-3a7b36ea057b"
      },
      "execution_count": null,
      "outputs": [
        {
          "output_type": "stream",
          "name": "stdout",
          "text": [
            "{'leche': 4500, 'queso': 12000}\n"
          ]
        }
      ]
    },
    {
      "cell_type": "code",
      "source": [
        "rt= lambda qu, vl: {k: v for k, v in qu.items() if v > vl}\n",
        "pr = {\"pan\": 3600, \"leche\": 4588, \"queso\": 12688, \"huevos\": 2688}\n",
        "print(rt(pr, 4000))"
      ],
      "metadata": {
        "colab": {
          "base_uri": "https://localhost:8080/"
        },
        "id": "nSm_2qlnNZ7y",
        "outputId": "2451f0f6-bc85-46da-b9b5-9166dbd2dc44"
      },
      "execution_count": null,
      "outputs": [
        {
          "output_type": "stream",
          "name": "stdout",
          "text": [
            "{'leche': 4588, 'queso': 12688}\n"
          ]
        }
      ]
    },
    {
      "cell_type": "markdown",
      "source": [
        "###19\n"
      ],
      "metadata": {
        "id": "ZzD8yUR4NVn5"
      }
    },
    {
      "cell_type": "code",
      "source": [
        "def zx(qu):\n",
        "    rs = {}\n",
        "    for k, v in qu.items():\n",
        "        rs[k] = sum(v)\n",
        "    return rs\n",
        "st = {\n",
        "    \"Ana\": [5, 6, 4],\n",
        "    \"Carlos\": [8, 7, 6],\n",
        "    \"María\": [4, 4, 5, 6]\n",
        "}\n",
        "print(zx(st))"
      ],
      "metadata": {
        "colab": {
          "base_uri": "https://localhost:8080/"
        },
        "id": "_163LjhgNZLo",
        "outputId": "d41563d1-2f44-447e-cc14-6050edca8bd4"
      },
      "execution_count": null,
      "outputs": [
        {
          "output_type": "stream",
          "name": "stdout",
          "text": [
            "{'Ana': 15, 'Carlos': 21, 'María': 19}\n"
          ]
        }
      ]
    },
    {
      "cell_type": "code",
      "source": [
        "zx= lambda qu: {k: sum(v) for k, v in qu.items()}\n",
        "st = {\n",
        "    \"Ana\": [5, 6, 4],\n",
        "    \"Carlos\": [8, 7, 6],\n",
        "    \"María\": [4, 4, 5, 6]\n",
        "}\n",
        "print(zx(st))"
      ],
      "metadata": {
        "colab": {
          "base_uri": "https://localhost:8080/"
        },
        "id": "e2KoaHpQNZj6",
        "outputId": "19998e74-fdd6-45d6-d32d-d6ffb12bad28"
      },
      "execution_count": null,
      "outputs": [
        {
          "output_type": "stream",
          "name": "stdout",
          "text": [
            "{'Ana': 15, 'Carlos': 21, 'María': 19}\n"
          ]
        }
      ]
    },
    {
      "cell_type": "markdown",
      "source": [
        "###20"
      ],
      "metadata": {
        "id": "Zmybuf9vNXEu"
      }
    },
    {
      "cell_type": "code",
      "source": [
        "def rt(qu):\n",
        "    nt = [v[\"nota\"] for v in qu.values() if v[\"edad\"] >= 18]\n",
        "    return sum(nt) / len(nt) if nt else 0\n",
        "st = {\n",
        "\"Ana\": {\"nota\": 4.5, \"edad\": 17},\n",
        "\"Carlos\": {\"nota\": 3.8, \"edad\": 28},\n",
        "\"María\": {\"nota\": 4.9, \"edad\": 22},\n",
        "}\n",
        "print(rt(st))"
      ],
      "metadata": {
        "colab": {
          "base_uri": "https://localhost:8080/"
        },
        "id": "xDZyXSo6NYor",
        "outputId": "0865b966-44b4-4ee9-851e-a7362c2db25c"
      },
      "execution_count": null,
      "outputs": [
        {
          "output_type": "stream",
          "name": "stdout",
          "text": [
            "4.35\n"
          ]
        }
      ]
    },
    {
      "cell_type": "code",
      "source": [
        "rt = lambda qu: (\n",
        "    sum(v[\"nota\"] for v in qu.values() if v[\"edad\"] >= 18) /\n",
        "    len([v for v in qu.values() if v[\"edad\"] >= 18])\n",
        "    if any(v[\"edad\"] >= 18 for v in qu.values()) else 0\n",
        ")\n",
        "\n",
        "st = {\n",
        "    \"Ana\": {\"nota\": 4.5, \"edad\": 17},\n",
        "    \"Carlos\": {\"nota\": 3.8, \"edad\": 28},\n",
        "    \"María\": {\"nota\": 4.9, \"edad\": 22},\n",
        "}\n",
        "\n",
        "print(rt(st))"
      ],
      "metadata": {
        "colab": {
          "base_uri": "https://localhost:8080/"
        },
        "id": "EcNvgNijNY1N",
        "outputId": "1e3928ff-381e-4fed-928b-805f347dca9d"
      },
      "execution_count": null,
      "outputs": [
        {
          "output_type": "stream",
          "name": "stdout",
          "text": [
            "4.35\n"
          ]
        }
      ]
    }
  ]
}