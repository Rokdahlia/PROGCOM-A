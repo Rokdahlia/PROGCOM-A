{
  "nbformat": 4,
  "nbformat_minor": 0,
  "metadata": {
    "colab": {
      "provenance": [],
      "include_colab_link": true
    },
    "kernelspec": {
      "name": "python3",
      "display_name": "Python 3"
    },
    "language_info": {
      "name": "python"
    }
  },
  "cells": [
    {
      "cell_type": "markdown",
      "metadata": {
        "id": "view-in-github",
        "colab_type": "text"
      },
      "source": [
        "<a href=\"https://colab.research.google.com/github/Rokdahlia/PROGCOM-A/blob/main/tercera_cosa_de_ejercicios.ipynb\" target=\"_parent\"><img src=\"https://colab.research.google.com/assets/colab-badge.svg\" alt=\"Open In Colab\"/></a>"
      ]
    },
    {
      "cell_type": "markdown",
      "source": [
        "###1"
      ],
      "metadata": {
        "id": "nsNGmh8z4rxA"
      }
    },
    {
      "cell_type": "code",
      "execution_count": null,
      "metadata": {
        "colab": {
          "base_uri": "https://localhost:8080/"
        },
        "id": "o5kYqmPa3yjN",
        "outputId": "7c642fb2-69c3-4b66-cd3f-48db505327f9"
      },
      "outputs": [
        {
          "output_type": "stream",
          "name": "stdout",
          "text": [
            "El cuadrado de 5 es 25\n"
          ]
        }
      ],
      "source": [
        "def cuadrado(a):\n",
        "  return f\"El cuadrado de {a} es {a**2}\"\n",
        "a=cuadrado(5)\n",
        "print(a)"
      ]
    },
    {
      "cell_type": "code",
      "source": [
        "cuadrado=lambda x:(x**2)\n",
        "cuadrado(5)"
      ],
      "metadata": {
        "colab": {
          "base_uri": "https://localhost:8080/"
        },
        "id": "IYW5lXv0423W",
        "outputId": "1b88c9af-884b-4843-f2e8-1578598c9d07"
      },
      "execution_count": null,
      "outputs": [
        {
          "output_type": "execute_result",
          "data": {
            "text/plain": [
              "25"
            ]
          },
          "metadata": {},
          "execution_count": 2
        }
      ]
    },
    {
      "cell_type": "markdown",
      "source": [
        "###2\n"
      ],
      "metadata": {
        "id": "vPWeaGjd5pOc"
      }
    },
    {
      "cell_type": "code",
      "source": [
        "import random\n",
        "def saludo(onichan):\n",
        "  culo = [\n",
        "      f\"Hola {onichan}, ¡qué alegría verte hoy!\",\n",
        "      f\"Bienvenido {onichan}, espero que tu día sea increíble.\",\n",
        "      f\"¡Hola {onichan}! Te estaba esperando con mucha energía positiva.\",\n",
        "      f\"Saludos cordiales, {onichan}. Que todo te vaya excelente!\",\n",
        "      f\"¡Muy buenos días, {onichan}! :)\",\n",
        "      f\"Qué gusto saludarte, {onichan}. ¡Vamos por un gran día!\",\n",
        "      f\" {onichan}, recuerda que eres una persona única y especial.\",\n",
        "      f\"¡Hola {onichan}! Hoy es un gran día para sonreír.\",\n",
        "      f\"Bienvenido {onichan}, que la luz te acompañe siempre.\",\n",
        "      f\"Hey {onichan}! Me alegra mucho verte por aquí.\",\n",
        "      f\"Hola {onichan}, que cada paso que des hoy te acerque a tus sueños.\",\n",
        "      f\"Saludos, {onichan}! Que tengas un día lleno de magia.\",\n",
        "      f\" {onichan}, eres una fuente de inspiración para los demás.\",\n",
        "      f\"¡Hola {onichan}! Que la alegría sea tu compañera hoy.\",\n",
        "      f\"Bienvenido {onichan}, Igracias por estar aquí!\",\n",
        "      f\"Qué honor tenerte aquí, {onichan}. ;)\",\n",
        "      f\"¡Hola {onichan}! Nunca olvides lo valioso que eres.\",\n",
        "      f\"Saludos cálidos para ti, {onichan}.\",\n",
        "      f\"Hola {onichan}, hoy es un día perfecto para empezar algo nuevo!\",\n",
        "      f\"¡Hola querido {onichan}! Estoy feliz de compartir este momento contigo.\"\n",
        "  ]\n",
        "  return random.choice(culo)\n",
        "print(saludo(\"malparido\"))"
      ],
      "metadata": {
        "colab": {
          "base_uri": "https://localhost:8080/"
        },
        "id": "UPvOIxor5kXA",
        "outputId": "899b84ed-251d-4f49-d208-5146fa2fc8d0"
      },
      "execution_count": null,
      "outputs": [
        {
          "output_type": "stream",
          "name": "stdout",
          "text": [
            "Hola malparido, ¡qué alegría verte hoy!\n"
          ]
        }
      ]
    },
    {
      "cell_type": "code",
      "source": [
        "saludos=lambda tali: random.choice([ f\"Hola {tali},qué alegría verte hoy!\",\n",
        "      f\"Bienvenido {tali}, espero que tu día sea increible.\",\n",
        "      f\"¡Hola {tali}! Te estaba esperando con mucha energía positiva.\",\n",
        "      f\"Saludos cordiales, {tali}. Que todo te vaya excelente!\",\n",
        "      f\"¡Muy buenos días, {tali}! :)\",\n",
        "      f\"Qué gusto saludarte, {tali}. ¡Vamos por un gran día!\",\n",
        "      f\"{tali}, recuerda que eres una persona única y especial.\",\n",
        "      f\"¡Hola {tali}! Hoy es un gran día para sonreír.\",\n",
        "      f\"Bienvenido {tali}, que la luz te acompañe siempre.\",\n",
        "      f\"Hey {tali}! Me alegra mucho verte por aquí.\",\n",
        "      f\"Hola {tali}, que cada paso que des hoy te acerque a tus sueños.\",\n",
        "      f\"Saludos, {tali}! Que tengas un día lleno de magia.\",\n",
        "      f\"{tali}, eres una fuente de inspiración para los demás.\",\n",
        "      f\"¡Hola {tali}! Que la alegría sea tu compañera hoy.\",\n",
        "      f\"Bienvenido {tali}, igracias por estar aquí!\",\n",
        "      f\"Qué honor tenerte aquí, {tali}. ;)\",\n",
        "      f\"Hola {tali}! Nunca olvides lo valioso que eres.\",\n",
        "      f\"Saludos cálidos para ti, {tali}.\",\n",
        "      f\"Hola {tali}, hoy es un día perfecto para empezar algo nuevo!\",\n",
        "      f\"¡Hola querido {tali}! Estoy feliz de compartir este momento contigo.\"])\n",
        "saludos(\"Anderson\")"
      ],
      "metadata": {
        "colab": {
          "base_uri": "https://localhost:8080/",
          "height": 35
        },
        "id": "jKqBqQ8J-i89",
        "outputId": "c5e75b12-fb2f-4ad9-b5ea-adef3f16dcf1"
      },
      "execution_count": null,
      "outputs": [
        {
          "output_type": "execute_result",
          "data": {
            "text/plain": [
              "'Qué honor tenerte aquí, Anderson. ;)'"
            ],
            "application/vnd.google.colaboratory.intrinsic+json": {
              "type": "string"
            }
          },
          "metadata": {},
          "execution_count": 4
        }
      ]
    },
    {
      "cell_type": "markdown",
      "source": [
        "###3"
      ],
      "metadata": {
        "id": "Xc6-GWK6AyEY"
      }
    },
    {
      "cell_type": "code",
      "source": [
        "def ma(a,b):\n",
        "  print(f\"La suma de {a} + {b} es {a+b}\")\n",
        "  print(f\"La resta de {a} - {b} es {a-b}\")\n",
        "  print(f\"La multiplicación de {a} + {b} es {a*b}\")\n",
        "  print(f\"La divición de {a} + {b} es {a/b}\")\n",
        "ma(2,9)"
      ],
      "metadata": {
        "colab": {
          "base_uri": "https://localhost:8080/"
        },
        "id": "7TL8RgFNAzqd",
        "outputId": "52160220-f8a7-4594-a2d3-fe765b82035c"
      },
      "execution_count": null,
      "outputs": [
        {
          "output_type": "stream",
          "name": "stdout",
          "text": [
            "La suma de 2 + 9 es 11\n",
            "La resta de 2 - 9 es -7\n",
            "La multiplicación de 2 + 9 es 18\n",
            "La divición de 2 + 9 es 0.2222222222222222\n"
          ]
        }
      ]
    },
    {
      "cell_type": "code",
      "source": [
        "ma=lambda a,b:(a+b,a-b,a*b,a/b)\n",
        "ma (2,9)"
      ],
      "metadata": {
        "colab": {
          "base_uri": "https://localhost:8080/"
        },
        "id": "6TeHbOvABO5M",
        "outputId": "86f77a0d-646b-438b-e54e-948b2530e45f"
      },
      "execution_count": null,
      "outputs": [
        {
          "output_type": "execute_result",
          "data": {
            "text/plain": [
              "(11, -7, 18, 0.2222222222222222)"
            ]
          },
          "metadata": {},
          "execution_count": 6
        }
      ]
    },
    {
      "cell_type": "markdown",
      "source": [
        "###4\n"
      ],
      "metadata": {
        "id": "0ne_ULyJBZ8H"
      }
    },
    {
      "cell_type": "code",
      "source": [
        "def edad(a):\n",
        "  if a>=18:\n",
        "    print(\"eres mayor de edad\")\n",
        "  else:\n",
        "    print(\"eres menor de edad\")\n",
        "    return\n",
        "edad (19)"
      ],
      "metadata": {
        "colab": {
          "base_uri": "https://localhost:8080/"
        },
        "id": "Tb2O-ZMPBbc9",
        "outputId": "a4fa9b30-2a0d-498c-bd68-4968437d3773"
      },
      "execution_count": null,
      "outputs": [
        {
          "output_type": "stream",
          "name": "stdout",
          "text": [
            "eres mayor de edad\n"
          ]
        }
      ]
    },
    {
      "cell_type": "code",
      "source": [
        "edad=lambda a:(\"eres mayor de edad\" if a>=18 else \"eres menor de edad\")\n",
        "edad (13)"
      ],
      "metadata": {
        "colab": {
          "base_uri": "https://localhost:8080/",
          "height": 35
        },
        "id": "g6isSyVoB1OA",
        "outputId": "a54a713e-05e8-4ffb-ca2f-d7ff8f49f9a1"
      },
      "execution_count": null,
      "outputs": [
        {
          "output_type": "execute_result",
          "data": {
            "text/plain": [
              "'eres menor de edad'"
            ],
            "application/vnd.google.colaboratory.intrinsic+json": {
              "type": "string"
            }
          },
          "metadata": {},
          "execution_count": 8
        }
      ]
    },
    {
      "cell_type": "markdown",
      "source": [
        "###5\n"
      ],
      "metadata": {
        "id": "C3De5IIlB7Uk"
      }
    },
    {
      "cell_type": "code",
      "source": [
        "def pali(t):\n",
        "  if t == t[::-1]:\n",
        "    print(\"es palindromo\")\n",
        "  else:\n",
        "    print(\"no es palindromo\")\n",
        "pali(\"lucas\")"
      ],
      "metadata": {
        "colab": {
          "base_uri": "https://localhost:8080/"
        },
        "id": "xsOCd0geB9WX",
        "outputId": "c5c5e93a-e4c6-49aa-bb81-1a0c3e7be8db"
      },
      "execution_count": null,
      "outputs": [
        {
          "output_type": "stream",
          "name": "stdout",
          "text": [
            "no es palindromo\n"
          ]
        }
      ]
    },
    {
      "cell_type": "code",
      "source": [
        "pali=lambda t: \"es palindromo\" if t==t[::-1] else \"no es palindromo\"\n",
        "pali(\"mierda\")"
      ],
      "metadata": {
        "colab": {
          "base_uri": "https://localhost:8080/",
          "height": 35
        },
        "id": "6bbJzUlHCCqJ",
        "outputId": "bc70c8c8-45db-4a4e-c541-4ae08a43822c"
      },
      "execution_count": null,
      "outputs": [
        {
          "output_type": "execute_result",
          "data": {
            "text/plain": [
              "'no es palindromo'"
            ],
            "application/vnd.google.colaboratory.intrinsic+json": {
              "type": "string"
            }
          },
          "metadata": {},
          "execution_count": 10
        }
      ]
    },
    {
      "cell_type": "markdown",
      "source": [
        "###6"
      ],
      "metadata": {
        "id": "mdHfn8evB95F"
      }
    },
    {
      "cell_type": "code",
      "source": [
        "def y(g):\n",
        "  print(len(g))\n",
        "y(\"hola\")\n",
        "y(\"dasdsad\")"
      ],
      "metadata": {
        "colab": {
          "base_uri": "https://localhost:8080/"
        },
        "id": "ZjmpWyXUB_XT",
        "outputId": "8dfd9e38-8295-4207-f671-25198482d1b4"
      },
      "execution_count": null,
      "outputs": [
        {
          "output_type": "stream",
          "name": "stdout",
          "text": [
            "4\n",
            "7\n"
          ]
        }
      ]
    },
    {
      "cell_type": "code",
      "source": [
        "y=lambda g: len(g)\n",
        "y(\"lucas\")"
      ],
      "metadata": {
        "colab": {
          "base_uri": "https://localhost:8080/"
        },
        "id": "qJocoEzTCDEI",
        "outputId": "58ba7f91-0a33-4597-ce38-2401baaf0d9c"
      },
      "execution_count": null,
      "outputs": [
        {
          "output_type": "execute_result",
          "data": {
            "text/plain": [
              "5"
            ]
          },
          "metadata": {},
          "execution_count": 12
        }
      ]
    },
    {
      "cell_type": "markdown",
      "source": [
        "###7"
      ],
      "metadata": {
        "id": "2tJQtEsnCAF0"
      }
    },
    {
      "cell_type": "code",
      "source": [
        "def t(f):\n",
        "  return sum(f)\n",
        "print(t([1,2,3,4,5]))"
      ],
      "metadata": {
        "colab": {
          "base_uri": "https://localhost:8080/"
        },
        "id": "Qyf2evheCBgi",
        "outputId": "c77e67c6-1067-4a83-a6fe-9cbf94004c38"
      },
      "execution_count": null,
      "outputs": [
        {
          "output_type": "stream",
          "name": "stdout",
          "text": [
            "15\n"
          ]
        }
      ]
    },
    {
      "cell_type": "code",
      "source": [
        "t=lambda f:sum(f)\n",
        "print(t([1, 2, 3, 4, 5]))"
      ],
      "metadata": {
        "colab": {
          "base_uri": "https://localhost:8080/"
        },
        "id": "mxJtSJolCDWm",
        "outputId": "ee64a062-0c50-4cd0-9d3a-72feb97292a2"
      },
      "execution_count": null,
      "outputs": [
        {
          "output_type": "stream",
          "name": "stdout",
          "text": [
            "15\n"
          ]
        }
      ]
    },
    {
      "cell_type": "markdown",
      "source": [
        "###8"
      ],
      "metadata": {
        "id": "nPquhGQWDhM_"
      }
    },
    {
      "cell_type": "code",
      "source": [
        "def m(u):\n",
        "  print(max(u),min(u))\n",
        "m([1,2,3,4,5])"
      ],
      "metadata": {
        "colab": {
          "base_uri": "https://localhost:8080/"
        },
        "id": "mM9kI0EQDqmo",
        "outputId": "78cd9736-ce05-4567-c5c1-4d58cb39f958"
      },
      "execution_count": null,
      "outputs": [
        {
          "output_type": "stream",
          "name": "stdout",
          "text": [
            "5 1\n"
          ]
        }
      ]
    },
    {
      "cell_type": "code",
      "source": [
        "m=lambda u: (max(u),min(u))\n",
        "print(m([1,2,3,4,5]))"
      ],
      "metadata": {
        "colab": {
          "base_uri": "https://localhost:8080/"
        },
        "id": "DHt_utpuDyWW",
        "outputId": "d2ea40a1-629e-4809-9ef0-640294b07ae1"
      },
      "execution_count": null,
      "outputs": [
        {
          "output_type": "stream",
          "name": "stdout",
          "text": [
            "(5, 1)\n"
          ]
        }
      ]
    },
    {
      "cell_type": "markdown",
      "source": [
        "###9"
      ],
      "metadata": {
        "id": "Mx_0bHx3D1HU"
      }
    },
    {
      "cell_type": "code",
      "source": [
        "def b(ij):\n",
        "  print(ij[::-1])\n",
        "b([1,2,3,4,5])"
      ],
      "metadata": {
        "colab": {
          "base_uri": "https://localhost:8080/"
        },
        "id": "T2SXlLs6D4Oi",
        "outputId": "04d0a315-5d8a-4b9a-ae4f-57322cef7cc9"
      },
      "execution_count": null,
      "outputs": [
        {
          "output_type": "stream",
          "name": "stdout",
          "text": [
            "[5, 4, 3, 2, 1]\n"
          ]
        }
      ]
    },
    {
      "cell_type": "code",
      "source": [
        "b=lambda kl: (kl[::-1])\n",
        "print(b([1,2,3,4,5]))"
      ],
      "metadata": {
        "colab": {
          "base_uri": "https://localhost:8080/"
        },
        "id": "hQpL8UNKEMop",
        "outputId": "1c768130-a8a3-4ec1-827d-5239402cc7ce"
      },
      "execution_count": null,
      "outputs": [
        {
          "output_type": "stream",
          "name": "stdout",
          "text": [
            "[5, 4, 3, 2, 1]\n"
          ]
        }
      ]
    },
    {
      "cell_type": "markdown",
      "source": [
        "###10"
      ],
      "metadata": {
        "id": "PO4543qtES8F"
      }
    },
    {
      "cell_type": "code",
      "source": [
        "def kj(dl):\n",
        "  resultado = []\n",
        "  for h in dl:\n",
        "    if h[0].lower() in \"aeiou\":\n",
        "      resultado.append(h)\n",
        "  return resultado\n",
        "\n",
        "nombres = [\"lucas\", \"marie\", \"mafe\", \"mierdas\", \"Ana\", \"Sofía\", \"alejandro\", \"Maria\"]\n",
        "print(kj(nombres))"
      ],
      "metadata": {
        "colab": {
          "base_uri": "https://localhost:8080/"
        },
        "id": "bzMwALtZEU8L",
        "outputId": "4eb5df20-9766-466c-8cc9-f867ee564d3e"
      },
      "execution_count": null,
      "outputs": [
        {
          "output_type": "stream",
          "name": "stdout",
          "text": [
            "['Ana', 'alejandro']\n"
          ]
        }
      ]
    },
    {
      "cell_type": "code",
      "source": [
        "kj = lambda dl: [h for h in dl if h[0].lower() in \"aeiou\"]\n",
        "nombres = [\"lucas\", \"marie\", \"mafe\", \"mierdas\", \"Ana\", \"Sofía\", \"alejandro\", \"Maria\"]\n",
        "print(kj(nombres))"
      ],
      "metadata": {
        "colab": {
          "base_uri": "https://localhost:8080/"
        },
        "id": "onUIKe6QFfBA",
        "outputId": "979a27e7-592c-45d5-d51c-81da686a0c9b"
      },
      "execution_count": null,
      "outputs": [
        {
          "output_type": "stream",
          "name": "stdout",
          "text": [
            "['Ana', 'alejandro']\n"
          ]
        }
      ]
    },
    {
      "cell_type": "markdown",
      "source": [
        "###11"
      ],
      "metadata": {
        "id": "iUWeoNJeF3hk"
      }
    },
    {
      "cell_type": "code",
      "source": [
        "def v(kp):\n",
        " return list(set(kp))\n",
        "print(v([1, 2, 2, 3, 4, 4, 5, 4, \"f\", \"f\"]))"
      ],
      "metadata": {
        "colab": {
          "base_uri": "https://localhost:8080/"
        },
        "id": "-cUOtOvdF4zf",
        "outputId": "03745939-e6fe-4716-c8c4-3fb31df5b314"
      },
      "execution_count": null,
      "outputs": [
        {
          "output_type": "stream",
          "name": "stdout",
          "text": [
            "[1, 2, 3, 4, 5, 'f']\n"
          ]
        }
      ]
    },
    {
      "cell_type": "code",
      "source": [
        "v=lambda kp: list(set(kp))\n",
        "print(v([1, 2, 2, 3, 4, 4, 5, 4, \"f\", \"f\"]))"
      ],
      "metadata": {
        "colab": {
          "base_uri": "https://localhost:8080/"
        },
        "id": "oUonyT-1F5FO",
        "outputId": "78a3e5f3-6e68-4cfe-8ce6-20113240f0a3"
      },
      "execution_count": null,
      "outputs": [
        {
          "output_type": "stream",
          "name": "stdout",
          "text": [
            "[1, 2, 3, 4, 5, 'f']\n"
          ]
        }
      ]
    },
    {
      "cell_type": "markdown",
      "source": [
        "###12"
      ],
      "metadata": {
        "id": "jWCE6xN1GgpD"
      }
    },
    {
      "cell_type": "code",
      "source": [
        "def primos_en_lista(ef):\n",
        "    ola=[]\n",
        "    for n in ef:\n",
        "        if n > 1:\n",
        "          shinc = True\n",
        "          for i in range(2, n):\n",
        "              if n % i == 0:\n",
        "                  shinc = False\n",
        "                  break\n",
        "\n",
        "        if shinc:\n",
        "\n",
        "          ola.append(n)\n",
        "\n",
        "    return ola\n",
        "\n",
        "numeros = [2, 3, 4, 5, 6, 7, 8, 9, 10, 11,13,15,17]\n",
        "print(primos_en_lista(numeros))"
      ],
      "metadata": {
        "colab": {
          "base_uri": "https://localhost:8080/"
        },
        "id": "YJMryTT9GksE",
        "outputId": "31d5aa9a-4e72-4511-abb6-ce2af70c9b81"
      },
      "execution_count": null,
      "outputs": [
        {
          "output_type": "stream",
          "name": "stdout",
          "text": [
            "[2, 3, 5, 7, 11, 13, 17]\n"
          ]
        }
      ]
    },
    {
      "cell_type": "code",
      "source": [
        "df = lambda ef: [n for n in ef if n > 1 and all(n % i != 0 for i in range(2, n))]\n",
        "numeros = [2, 3, 4, 5, 6, 7, 8, 9, 10, 11, 13, 15, 17]\n",
        "print(primos_en_lista(numeros))"
      ],
      "metadata": {
        "colab": {
          "base_uri": "https://localhost:8080/"
        },
        "id": "VgLB0V7nGk-0",
        "outputId": "a078c088-8ce6-4570-c5f3-7d1bb8871cb1"
      },
      "execution_count": null,
      "outputs": [
        {
          "output_type": "stream",
          "name": "stdout",
          "text": [
            "[2, 3, 5, 7, 11, 13, 17]\n"
          ]
        }
      ]
    },
    {
      "cell_type": "markdown",
      "source": [
        "###13"
      ],
      "metadata": {
        "id": "e4JBbsoWITvX"
      }
    },
    {
      "cell_type": "code",
      "source": [
        "def ms(dic):\n",
        "    nombre = dic[\"nombre\"]\n",
        "    edad = dic[\"edad\"]\n",
        "    return f\"El nombre es {nombre} y tiene {edad} años.\"\n",
        "persona = {\"nombre\": \"Ana\", \"edad\": 25}\n",
        "print(ms(persona))"
      ],
      "metadata": {
        "colab": {
          "base_uri": "https://localhost:8080/"
        },
        "id": "mQDmAc87IVdU",
        "outputId": "55520df9-26dc-4542-8823-4fda5811d599"
      },
      "execution_count": null,
      "outputs": [
        {
          "output_type": "stream",
          "name": "stdout",
          "text": [
            "El nombre es Ana y tiene 25 años.\n"
          ]
        }
      ]
    },
    {
      "cell_type": "code",
      "source": [
        "ms = lambda dic: f\"El nombre es {dic['nombre']} y tiene {dic['edad']} años.\"\n",
        "persona = {\"nombre\": \"lucas\", \"edad\": 20}\n",
        "print(ms(persona))"
      ],
      "metadata": {
        "colab": {
          "base_uri": "https://localhost:8080/"
        },
        "id": "HA5TOHiCIVyL",
        "outputId": "0b206b26-4f41-4667-ce1c-7e2c725091a8"
      },
      "execution_count": null,
      "outputs": [
        {
          "output_type": "stream",
          "name": "stdout",
          "text": [
            "El nombre es lucas y tiene 20 años.\n"
          ]
        }
      ]
    },
    {
      "cell_type": "markdown",
      "source": [
        "###14"
      ],
      "metadata": {
        "id": "4Yc3djAOJl3T"
      }
    },
    {
      "cell_type": "code",
      "source": [
        "def xz(qu):\n",
        "    ab=0\n",
        "    for rt in qu.values():\n",
        "      ab += rt\n",
        "    return ab\n",
        "productos = {\"pan\": 3088, \"leche\": 4598, \"queso\": 12000}\n",
        "print(xz(productos))"
      ],
      "metadata": {
        "colab": {
          "base_uri": "https://localhost:8080/"
        },
        "id": "tpgRBjUcJov_",
        "outputId": "549c7e6b-5723-42e1-ccbc-7a5fea2a84f7"
      },
      "execution_count": null,
      "outputs": [
        {
          "output_type": "stream",
          "name": "stdout",
          "text": [
            "19686\n"
          ]
        }
      ]
    },
    {
      "cell_type": "code",
      "source": [
        "xz = lambda qu: sum(qu.values())\n",
        "productos = {\"pan\": 3000, \"leche\": 4500, \"queso\": 12000}\n",
        "print(xz(productos))"
      ],
      "metadata": {
        "colab": {
          "base_uri": "https://localhost:8080/"
        },
        "id": "aSrFtUFlJo8e",
        "outputId": "52d57bf5-26b3-43a5-e179-1ef1d1fbf947"
      },
      "execution_count": null,
      "outputs": [
        {
          "output_type": "stream",
          "name": "stdout",
          "text": [
            "19500\n"
          ]
        }
      ]
    },
    {
      "cell_type": "markdown",
      "source": [
        "###15"
      ],
      "metadata": {
        "id": "FmwJRCezJpRo"
      }
    },
    {
      "cell_type": "code",
      "source": [
        "def kl(zx):\n",
        "    rt = sum(zx.values())\n",
        "    qp = len(zx)\n",
        "    return rt / qp if qp > 0 else o\n",
        "st = {\"Ana\": 4.5, \"Carlos\": 3.8, \"Maria\": 4.2}\n",
        "print(kl(st))"
      ],
      "metadata": {
        "colab": {
          "base_uri": "https://localhost:8080/"
        },
        "id": "slSwYrU3JrEN",
        "outputId": "e9a96898-0107-4e00-fe57-523f511aa9ce"
      },
      "execution_count": null,
      "outputs": [
        {
          "output_type": "stream",
          "name": "stdout",
          "text": [
            "4.166666666666667\n"
          ]
        }
      ]
    },
    {
      "cell_type": "code",
      "source": [
        "k1= lambda zx: sum(zx.values()) / len(zx) if len(zx) > 0 else 9\n",
        "st = {\"Ana\": 4.5, \"Carlos\": 3.8, \"Maria\": 4.2}\n",
        "print(kl(st))"
      ],
      "metadata": {
        "colab": {
          "base_uri": "https://localhost:8080/"
        },
        "id": "mTde46-nJrOu",
        "outputId": "153aa617-ccbf-42e9-b9e7-7a1917a58076"
      },
      "execution_count": null,
      "outputs": [
        {
          "output_type": "stream",
          "name": "stdout",
          "text": [
            "4.166666666666667\n"
          ]
        }
      ]
    },
    {
      "cell_type": "markdown",
      "source": [
        "###16"
      ],
      "metadata": {
        "id": "WcmcghB3Jrku"
      }
    },
    {
      "cell_type": "code",
      "source": [
        "def hj(xz, nm):\n",
        "    return xz[nm] if nm in xz else \"no encontrado\"\n",
        "st = {\"Ana\": 4.5, \"Carlos\": 3.8, \"Maria\": 4.9}\n",
        "print(hj(st, \"Carlos\"))\n",
        "print(hj(st, \"pedro\"))"
      ],
      "metadata": {
        "colab": {
          "base_uri": "https://localhost:8080/"
        },
        "id": "xM-3_nczJs94",
        "outputId": "ed0b0f73-1103-43d4-a4ea-c97b3750a0c9"
      },
      "execution_count": null,
      "outputs": [
        {
          "output_type": "stream",
          "name": "stdout",
          "text": [
            "3.8\n",
            "no encontrado\n"
          ]
        }
      ]
    },
    {
      "cell_type": "code",
      "source": [
        "hj = lambda xz, nm: xz[nm] if nm in xz else \"no encontrado\"\n",
        "st = {\"Ana\": 4.5, \"Carlos\": 3.8, \"Maria\": 4.9}\n",
        "print(hj(st, \"Ana\"))\n",
        "print(hj(st, \"Luis\"))"
      ],
      "metadata": {
        "colab": {
          "base_uri": "https://localhost:8080/"
        },
        "id": "sf0pedHpJtIu",
        "outputId": "a087ad2d-5093-469d-cb26-4c05a9b87680"
      },
      "execution_count": null,
      "outputs": [
        {
          "output_type": "stream",
          "name": "stdout",
          "text": [
            "4.5\n",
            "no encontrado\n"
          ]
        }
      ]
    },
    {
      "cell_type": "markdown",
      "source": [
        "###17"
      ],
      "metadata": {
        "id": "DvnmJYjVJtbI"
      }
    },
    {
      "cell_type": "code",
      "source": [
        "def fg(y):\n",
        "    ab = max(y, key=y.get)\n",
        "    return ab\n",
        "st = {\"Ana\": 4.5, \"Carlos\": 3.8, \"Maria\": 4.9}\n",
        "print(fg(st))"
      ],
      "metadata": {
        "colab": {
          "base_uri": "https://localhost:8080/"
        },
        "id": "CbS5UQ4_Ju45",
        "outputId": "662e66f0-8417-4b5d-89d8-a12de45e293b"
      },
      "execution_count": null,
      "outputs": [
        {
          "output_type": "stream",
          "name": "stdout",
          "text": [
            "Maria\n"
          ]
        }
      ]
    },
    {
      "cell_type": "code",
      "source": [
        "fg= lambda xy: max(xy, key=xy.get)\n",
        "st = {\"Ana\": 4.5, \"Carlos\": 3.8, \"Maria\": 4.9}\n",
        "print(fg(st))"
      ],
      "metadata": {
        "colab": {
          "base_uri": "https://localhost:8080/"
        },
        "id": "yXsijoa1JvDj",
        "outputId": "a9ebe146-a2a9-47cf-c6d6-858bf1e1a8c9"
      },
      "execution_count": null,
      "outputs": [
        {
          "output_type": "stream",
          "name": "stdout",
          "text": [
            "Maria\n"
          ]
        }
      ]
    },
    {
      "cell_type": "markdown",
      "source": [
        "###18"
      ],
      "metadata": {
        "id": "LHOh06bINT64"
      }
    },
    {
      "cell_type": "code",
      "source": [
        "def rt(qu, vl):\n",
        "    rs = {}\n",
        "    for k, v in qu.items():\n",
        "        if v > vl:\n",
        "            rs[k] = v\n",
        "    return rs\n",
        "pr = {\"pan\": 3000, \"leche\": 4500, \"queso\": 12000, \"huevos\": 2000}\n",
        "print(rt(pr, 4000))"
      ],
      "metadata": {
        "colab": {
          "base_uri": "https://localhost:8080/"
        },
        "id": "-tKF4JV1NaI2",
        "outputId": "27516b73-68c6-487f-aad1-3d8ca51008cd"
      },
      "execution_count": null,
      "outputs": [
        {
          "output_type": "stream",
          "name": "stdout",
          "text": [
            "{'leche': 4500, 'queso': 12000}\n"
          ]
        }
      ]
    },
    {
      "cell_type": "code",
      "source": [
        "rt= lambda qu, vl: {k: v for k, v in qu.items() if v > vl}\n",
        "pr = {\"pan\": 3600, \"leche\": 4588, \"queso\": 12688, \"huevos\": 2688}\n",
        "print(rt(pr, 4000))"
      ],
      "metadata": {
        "colab": {
          "base_uri": "https://localhost:8080/"
        },
        "id": "nSm_2qlnNZ7y",
        "outputId": "af9d164c-76ae-450a-f0a5-08b1c2d17da7"
      },
      "execution_count": null,
      "outputs": [
        {
          "output_type": "stream",
          "name": "stdout",
          "text": [
            "{'leche': 4588, 'queso': 12688}\n"
          ]
        }
      ]
    },
    {
      "cell_type": "markdown",
      "source": [
        "###19\n"
      ],
      "metadata": {
        "id": "ZzD8yUR4NVn5"
      }
    },
    {
      "cell_type": "code",
      "source": [
        "def zx(qu):\n",
        "    rs = {}\n",
        "    for k, v in qu.items():\n",
        "        rs[k] = sum(v)\n",
        "    return rs\n",
        "st = {\n",
        "    \"Ana\": [5, 6, 4],\n",
        "    \"Carlos\": [8, 7, 6],\n",
        "    \"María\": [4, 4, 5, 6]\n",
        "}\n",
        "print(zx(st))"
      ],
      "metadata": {
        "colab": {
          "base_uri": "https://localhost:8080/"
        },
        "id": "_163LjhgNZLo",
        "outputId": "4f3a79ce-94ea-4789-9e81-d977972f44f1"
      },
      "execution_count": null,
      "outputs": [
        {
          "output_type": "stream",
          "name": "stdout",
          "text": [
            "{'Ana': 15, 'Carlos': 21, 'María': 19}\n"
          ]
        }
      ]
    },
    {
      "cell_type": "code",
      "source": [
        "zx= lambda qu: {k: sum(v) for k, v in qu.items()}\n",
        "st = {\n",
        "    \"Ana\": [5, 6, 4],\n",
        "    \"Carlos\": [8, 7, 6],\n",
        "    \"María\": [4, 4, 5, 6]\n",
        "}\n",
        "print(zx(st))"
      ],
      "metadata": {
        "colab": {
          "base_uri": "https://localhost:8080/"
        },
        "id": "e2KoaHpQNZj6",
        "outputId": "64d411fe-6747-4025-e0fe-43f06c171409"
      },
      "execution_count": null,
      "outputs": [
        {
          "output_type": "stream",
          "name": "stdout",
          "text": [
            "{'Ana': 15, 'Carlos': 21, 'María': 19}\n"
          ]
        }
      ]
    },
    {
      "cell_type": "markdown",
      "source": [
        "###20"
      ],
      "metadata": {
        "id": "Zmybuf9vNXEu"
      }
    },
    {
      "cell_type": "code",
      "source": [
        "def rt(qu):\n",
        "    nt = [v[\"nota\"] for v in qu.values() if v[\"edad\"] >= 18]\n",
        "    return sum(nt) / len(nt) if nt else 0\n",
        "st = {\n",
        "\"Ana\": {\"nota\": 4.5, \"edad\": 17},\n",
        "\"Carlos\": {\"nota\": 3.8, \"edad\": 28},\n",
        "\"María\": {\"nota\": 4.9, \"edad\": 22},\n",
        "}\n",
        "print(rt(st))"
      ],
      "metadata": {
        "colab": {
          "base_uri": "https://localhost:8080/"
        },
        "id": "xDZyXSo6NYor",
        "outputId": "a4c31b6c-e755-419c-c108-b5d3493f638c"
      },
      "execution_count": null,
      "outputs": [
        {
          "output_type": "stream",
          "name": "stdout",
          "text": [
            "4.35\n"
          ]
        }
      ]
    },
    {
      "cell_type": "code",
      "source": [
        "rt = lambda qu: (\n",
        "    sum(v[\"nota\"] for v in qu.values() if v[\"edad\"] >= 18) /\n",
        "    len([v for v in qu.values() if v[\"edad\"] >= 18])\n",
        "    if any(v[\"edad\"] >= 18 for v in qu.values()) else 0\n",
        ")\n",
        "\n",
        "st = {\n",
        "    \"Ana\": {\"nota\": 4.5, \"edad\": 17},\n",
        "    \"Carlos\": {\"nota\": 3.8, \"edad\": 28},\n",
        "    \"María\": {\"nota\": 4.9, \"edad\": 22},\n",
        "}\n",
        "\n",
        "print(rt(st))"
      ],
      "metadata": {
        "colab": {
          "base_uri": "https://localhost:8080/"
        },
        "id": "EcNvgNijNY1N",
        "outputId": "99ed7de4-fd65-493e-8abb-2578baa7b12f"
      },
      "execution_count": null,
      "outputs": [
        {
          "output_type": "stream",
          "name": "stdout",
          "text": [
            "4.35\n"
          ]
        }
      ]
    }
  ]
}