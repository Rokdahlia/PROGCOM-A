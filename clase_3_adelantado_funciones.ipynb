{
  "nbformat": 4,
  "nbformat_minor": 0,
  "metadata": {
    "colab": {
      "provenance": [],
      "include_colab_link": true
    },
    "kernelspec": {
      "name": "python3",
      "display_name": "Python 3"
    },
    "language_info": {
      "name": "python"
    }
  },
  "cells": [
    {
      "cell_type": "markdown",
      "metadata": {
        "id": "view-in-github",
        "colab_type": "text"
      },
      "source": [
        "<a href=\"https://colab.research.google.com/github/Rokdahlia/PROGCOM-A/blob/main/clase_3_adelantado_funciones.ipynb\" target=\"_parent\"><img src=\"https://colab.research.google.com/assets/colab-badge.svg\" alt=\"Open In Colab\"/></a>"
      ]
    },
    {
      "cell_type": "markdown",
      "source": [
        "#FUNCIONES\n",
        "Copiado dinamico.\n",
        "Dio nacimiento a un nuevo paradigma\n",
        "de programacion llamado programacion llamado programacion modular.\n",
        "\n",
        "##Forma general de programar funciones.\n",
        "\n",
        "\n",
        "```\n",
        "def (nombre_de_funcion)(p, p2,p3...pn):\n",
        "  donde p, p2, p3...p: son parametros\n",
        "```\n",
        "\n",
        "\n"
      ],
      "metadata": {
        "id": "SKWKjp4P2FiE"
      }
    },
    {
      "cell_type": "markdown",
      "source": [
        "1.  list()\n",
        "2.  len()\n",
        "3.  print()\n",
        "4.  apped()# POO Metodo\n",
        "5.  int()\n",
        "6.  input()\n",
        "\n"
      ],
      "metadata": {
        "id": "jMiDLUkW3ycE"
      }
    },
    {
      "cell_type": "markdown",
      "source": [
        "##Tipos de funciones\n",
        "1. Sin parametros, sin retorno\n",
        "2. sin parametros, con retorno\n",
        "3. con parametros, sin retorno\n",
        "4. con parametros, con retorno"
      ],
      "metadata": {
        "id": "V7NuVt8N4juc"
      }
    },
    {
      "cell_type": "markdown",
      "source": [
        "###1. Sin parametros, sin retorno\n",
        "Se emplea como copiado dinamico"
      ],
      "metadata": {
        "id": "rN6preO_5HRs"
      }
    },
    {
      "cell_type": "code",
      "execution_count": null,
      "metadata": {
        "id": "QMeBzOklxPvM"
      },
      "outputs": [],
      "source": [
        "#Ejemplo: Entrada de un cajero electronico\n",
        "def cajero(): # Esto significa que es sin parametros\n",
        "  print(\"Bienbenido a DaviUNAB\")\n",
        "  print(\"Estas son las operaciones que pueden realisar: \")\n",
        "  print(\"1. Retira\\n2. Transferencia\\n3. Denunciar\\n4. Opreraciones sin Trageta\")"
      ]
    },
    {
      "cell_type": "code",
      "source": [
        "cajero()"
      ],
      "metadata": {
        "colab": {
          "base_uri": "https://localhost:8080/"
        },
        "id": "gB3fvcfx6jQ7",
        "outputId": "45fa9c8f-71f6-4c74-cef8-44b1cc1a2547"
      },
      "execution_count": null,
      "outputs": [
        {
          "output_type": "stream",
          "name": "stdout",
          "text": [
            "Bienbenido a DaviUNAB\n",
            "Estas son las operaciones que pueden realisar: \n",
            "1. Retira\n",
            "2. Transferencia\n",
            "3. Denunciar\n",
            "4. Opreraciones sin Trageta\n"
          ]
        }
      ]
    },
    {
      "cell_type": "markdown",
      "source": [
        "### 2. Sin Parametros, con retorno"
      ],
      "metadata": {
        "id": "L7d2ihNx8IGz"
      }
    },
    {
      "cell_type": "code",
      "source": [
        "def cajero2(): # Esto significa que es sin parametros\n",
        "  print(\"Bienbenido a DaviUNAB\")\n",
        "  print(\"Estas son las operaciones que pueden realisar: \")\n",
        "  print(\"1. Retira\\n2. Transferencia\\n3. Denunciar\\n4. Opreraciones sin Trageta\")\n",
        "  rta=input(\"Ingrese una opcion \")#Variable local\n",
        "  return rta#Vuela una variable local global"
      ],
      "metadata": {
        "id": "HSGMFvGP8O-L"
      },
      "execution_count": null,
      "outputs": []
    },
    {
      "cell_type": "code",
      "source": [
        "cajero2()"
      ],
      "metadata": {
        "colab": {
          "base_uri": "https://localhost:8080/",
          "height": 157
        },
        "id": "r_EYfIEf9POF",
        "outputId": "b97db10b-d2fe-4a5f-c923-8bea2d879380"
      },
      "execution_count": null,
      "outputs": [
        {
          "name": "stdout",
          "output_type": "stream",
          "text": [
            "Bienbenido a DaviUNAB\n",
            "Estas son las operaciones que pueden realisar: \n",
            "1. Retira\n",
            "2. Transferencia\n",
            "3. Denunciar\n",
            "4. Opreraciones sin Trageta\n",
            "Ingrese una opcion 2\n"
          ]
        },
        {
          "output_type": "execute_result",
          "data": {
            "text/plain": [
              "'2'"
            ],
            "application/vnd.google.colaboratory.intrinsic+json": {
              "type": "string"
            }
          },
          "metadata": {},
          "execution_count": 7
        }
      ]
    },
    {
      "cell_type": "code",
      "source": [
        "rta=cajero2()"
      ],
      "metadata": {
        "colab": {
          "base_uri": "https://localhost:8080/"
        },
        "id": "ixgeC7068yjd",
        "outputId": "46230f81-080c-4a95-ab09-425ed733a696"
      },
      "execution_count": null,
      "outputs": [
        {
          "name": "stdout",
          "output_type": "stream",
          "text": [
            "Bienbenido a DaviUNAB\n",
            "Estas son las operaciones que pueden realisar: \n",
            "1. Retira\n",
            "2. Transferencia\n",
            "3. Denunciar\n",
            "4. Opreraciones sin Trageta\n",
            "Ingrese una opcion 2\n"
          ]
        }
      ]
    },
    {
      "cell_type": "code",
      "source": [
        "type(rta)"
      ],
      "metadata": {
        "colab": {
          "base_uri": "https://localhost:8080/"
        },
        "id": "q0ZkJjCr-Jhb",
        "outputId": "6d571f9a-7062-4281-9815-dd21b9185b6f"
      },
      "execution_count": null,
      "outputs": [
        {
          "output_type": "execute_result",
          "data": {
            "text/plain": [
              "str"
            ]
          },
          "metadata": {},
          "execution_count": 9
        }
      ]
    },
    {
      "cell_type": "markdown",
      "source": [
        "###3. Con parametros, sin retorno\n"
      ],
      "metadata": {
        "id": "rmaTENI5-gqz"
      }
    },
    {
      "cell_type": "code",
      "source": [
        "#Ejemplo: el area de un rectangulo\n",
        "def ab(u,du):\n",
        "  print(f\"El area e un rectangulo de base {u} y altura {du} es {u*du}\")"
      ],
      "metadata": {
        "id": "UK_rBQDg-qGb"
      },
      "execution_count": null,
      "outputs": []
    },
    {
      "cell_type": "code",
      "source": [
        "a=ab(2,3)"
      ],
      "metadata": {
        "colab": {
          "base_uri": "https://localhost:8080/"
        },
        "id": "vL7GdUG__PIV",
        "outputId": "76ce7c31-5c6f-4c54-a987-1cc0c56883e6"
      },
      "execution_count": null,
      "outputs": [
        {
          "output_type": "stream",
          "name": "stdout",
          "text": [
            "El area e un rectangulo de base 2 y altura 3 es 6\n"
          ]
        }
      ]
    },
    {
      "cell_type": "code",
      "source": [
        "print(a)"
      ],
      "metadata": {
        "colab": {
          "base_uri": "https://localhost:8080/"
        },
        "id": "YR8mu7FQ_a3G",
        "outputId": "7fc08cb0-2415-41ad-fb57-4a1a2106d2c9"
      },
      "execution_count": null,
      "outputs": [
        {
          "output_type": "stream",
          "name": "stdout",
          "text": [
            "None\n"
          ]
        }
      ]
    },
    {
      "cell_type": "markdown",
      "source": [
        "###4. Con parametros, con retorno"
      ],
      "metadata": {
        "id": "MgL_-9kD_fYL"
      }
    },
    {
      "cell_type": "code",
      "source": [
        "#Ejemplo: el area de un rectangulo\n",
        "def area_rectangulo(u,du):\n",
        "  return f\"El area de un rectangulo de base {u} y altura {du} es {u*du}\""
      ],
      "metadata": {
        "id": "laNMFDIV_oOU"
      },
      "execution_count": null,
      "outputs": []
    },
    {
      "cell_type": "code",
      "source": [
        "a=area_rectangulo(10,15)"
      ],
      "metadata": {
        "id": "WcL-UYMsAQdU"
      },
      "execution_count": null,
      "outputs": []
    },
    {
      "cell_type": "code",
      "source": [
        "print(a)"
      ],
      "metadata": {
        "colab": {
          "base_uri": "https://localhost:8080/"
        },
        "id": "89ZgyEBYAtSm",
        "outputId": "8f7f8425-4fb9-455b-d5cf-0102bc087da4"
      },
      "execution_count": null,
      "outputs": [
        {
          "output_type": "stream",
          "name": "stdout",
          "text": [
            "El area de un rectangulo de base 10 y altura 15 es 150\n"
          ]
        }
      ]
    },
    {
      "cell_type": "markdown",
      "source": [
        "###FUNCIONES ANONIMAS O LAMBDA\n",
        "1.  Siempre usan parametros\n",
        "2.  Siempre generan retorno\n",
        "3.  No tiene nombre -->anonimas\n",
        "4. **Se pueden emplear n parametros, pero solo ejecuta una linea de codigo**\n",
        "###Definicion de funciones LAMBDA\n",
        "\n",
        "```\n",
        "variable=lamba (p,p1,p2,...,pn): operacion\n",
        "```\n",
        "\n"
      ],
      "metadata": {
        "id": "ZA1tR12eCDlr"
      }
    },
    {
      "cell_type": "code",
      "source": [
        "#Ejemplo: Calcula el area de un triangulo\n",
        "area_triangulo=lambda a,b:a*b/2"
      ],
      "metadata": {
        "id": "IoWNQgfwDc9r"
      },
      "execution_count": null,
      "outputs": []
    },
    {
      "cell_type": "code",
      "source": [
        "area_triangulo(3,8)"
      ],
      "metadata": {
        "colab": {
          "base_uri": "https://localhost:8080/"
        },
        "id": "9BLKPOKRD3iU",
        "outputId": "9d39b43e-2931-4534-9b94-fac1f18b4b8e"
      },
      "execution_count": null,
      "outputs": [
        {
          "output_type": "execute_result",
          "data": {
            "text/plain": [
              "12.0"
            ]
          },
          "metadata": {},
          "execution_count": 22
        }
      ]
    },
    {
      "cell_type": "code",
      "source": [
        "x=int(input(\"Ingrese la altura de un triangulo \"))\n",
        "y=int(input(\"Ingrese la base de un triangulo \"))\n",
        "area_triangulo(x,y)"
      ],
      "metadata": {
        "colab": {
          "base_uri": "https://localhost:8080/"
        },
        "id": "0GEPubS7EVkD",
        "outputId": "6e27b45e-4093-44c4-d37d-2106bb260cf5"
      },
      "execution_count": null,
      "outputs": [
        {
          "name": "stdout",
          "output_type": "stream",
          "text": [
            "Ingrese la altura de un triangulo4\n",
            "Ingrese la base de un triangulo6\n"
          ]
        },
        {
          "output_type": "execute_result",
          "data": {
            "text/plain": [
              "12.0"
            ]
          },
          "metadata": {},
          "execution_count": 23
        }
      ]
    },
    {
      "cell_type": "code",
      "source": [
        "#Ejemplo: Calcula el area de un circulo\n",
        "area_circulo=lambda r:3.14*r**2"
      ],
      "metadata": {
        "id": "56wSUbwcEyTG"
      },
      "execution_count": null,
      "outputs": []
    },
    {
      "cell_type": "code",
      "source": [
        "area_circulo(5)"
      ],
      "metadata": {
        "colab": {
          "base_uri": "https://localhost:8080/"
        },
        "id": "qCLV2oRHFoYb",
        "outputId": "f76bc445-c9a8-408b-e5c4-f6a253a37181"
      },
      "execution_count": null,
      "outputs": [
        {
          "output_type": "execute_result",
          "data": {
            "text/plain": [
              "78.5"
            ]
          },
          "metadata": {},
          "execution_count": 29
        }
      ]
    },
    {
      "cell_type": "code",
      "source": [
        "#calcular cual de 3 numero es el mayor\n",
        "valor=lambda a,e,i:(max(a,e,i))"
      ],
      "metadata": {
        "id": "s4J2fxKdG-Ub"
      },
      "execution_count": null,
      "outputs": []
    },
    {
      "cell_type": "code",
      "source": [
        "valor(5,2,8)"
      ],
      "metadata": {
        "colab": {
          "base_uri": "https://localhost:8080/"
        },
        "id": "e6aV1hWBIOUn",
        "outputId": "5c47908d-2f2f-4738-aa92-1745f4cda26f"
      },
      "execution_count": null,
      "outputs": [
        {
          "output_type": "execute_result",
          "data": {
            "text/plain": [
              "8"
            ]
          },
          "metadata": {},
          "execution_count": 32
        }
      ]
    },
    {
      "cell_type": "code",
      "source": [],
      "metadata": {
        "id": "yGERNCIeIYcz"
      },
      "execution_count": null,
      "outputs": []
    }
  ]
}