{
  "nbformat": 4,
  "nbformat_minor": 0,
  "metadata": {
    "colab": {
      "provenance": [],
      "authorship_tag": "ABX9TyP8MQqB/RNGyf3hQY8EJhCp",
      "include_colab_link": true
    },
    "kernelspec": {
      "name": "python3",
      "display_name": "Python 3"
    },
    "language_info": {
      "name": "python"
    }
  },
  "cells": [
    {
      "cell_type": "markdown",
      "metadata": {
        "id": "view-in-github",
        "colab_type": "text"
      },
      "source": [
        "<a href=\"https://colab.research.google.com/github/Rokdahlia/PROGCOM-A/blob/main/clase_1_estructuras_de_selccion.ipynb\" target=\"_parent\"><img src=\"https://colab.research.google.com/assets/colab-badge.svg\" alt=\"Open In Colab\"/></a>"
      ]
    },
    {
      "cell_type": "markdown",
      "source": [
        "#estructura de seleccion\n",
        "se emplean cuando se deben evaluar una condion y esta da un valor de de verdad (V) o (f)\n"
      ],
      "metadata": {
        "id": "83DP2Pnts98y"
      }
    },
    {
      "cell_type": "markdown",
      "source": [
        "#estructura de if -else\n",
        "\n",
        "if (condicion):\n",
        "  entro aqui, si es verdadera\n",
        "else:\n",
        "  entro aqui si la condicion es falsa"
      ],
      "metadata": {
        "id": "cP4u6tcyt4LB"
      }
    },
    {
      "cell_type": "code",
      "source": [
        "#escribe un programa que reciba un numero e indique si es positivo\n",
        "try:\n",
        "    # Solicitar al usuario un número entero\n",
        "    n = int(input(\"Ingresa un número: \"))\n",
        "\n",
        "\n",
        "    if n > 0:\n",
        "        print(f\"{n} es un número positivo\")\n",
        "    else:\n",
        "        print(f\"{n} NO es un número positivo\")\n",
        "\n",
        "except ValueError:\n",
        "    # Si ocurre un error, el valor ingresado no es un número válido\n",
        "    print(\"¡Error! No es un número válido.\")\n"
      ],
      "metadata": {
        "colab": {
          "base_uri": "https://localhost:8080/"
        },
        "id": "kmRkOPQItx2i",
        "outputId": "b29bb3b5-4cba-4409-95c3-703e77139903"
      },
      "execution_count": 36,
      "outputs": [
        {
          "output_type": "stream",
          "name": "stdout",
          "text": [
            "Ingresa un número: 1\n",
            "1 es un número positivo\n"
          ]
        }
      ]
    },
    {
      "cell_type": "markdown",
      "source": [
        "## seleccion multiple if- elif-else\n",
        "\n",
        "if (condicion1):\n",
        "si se cumple condicion1, entro aqui\n",
        "\n",
        "elif (condicion2):\n",
        "si no se cumple condicion 1,\n",
        "pero se cumple condincion2,\n",
        "entrar\n",
        "else: si no se cumple ninguna delas anteriores\n"
      ],
      "metadata": {
        "id": "Cl6bBljI0FZj"
      }
    },
    {
      "cell_type": "code",
      "source": [
        "if n > 0:\n",
        "    print(f\"{n} es un número positivo\")\n",
        "elif n < 0:\n",
        "    print(f\"{n} es un número negativo\")\n",
        "else:\n",
        "    print(f\"{n} es 0\")\n"
      ],
      "metadata": {
        "colab": {
          "base_uri": "https://localhost:8080/"
        },
        "id": "6YPZj6I8ukVh",
        "outputId": "5effd7ed-58f7-4b09-c805-24a0bac65b6d"
      },
      "execution_count": 37,
      "outputs": [
        {
          "output_type": "stream",
          "name": "stdout",
          "text": [
            "1 es un número positivo\n"
          ]
        }
      ]
    },
    {
      "cell_type": "markdown",
      "source": [
        "##operador terniario\n",
        "se usa cuando hay una condicion a evaluar simple y se desea resolver en  en una linea de codigo\n",
        "\n",
        "(valor de verdad v) if (condion) else (valor de verdad F)"
      ],
      "metadata": {
        "id": "zjMHphuN1_rL"
      }
    },
    {
      "cell_type": "code",
      "source": [
        "a=f\"{n} es unnumero positivo\" if n>=0 else f\"{n} No es unnumero\"\n",
        "\n",
        "print(a)"
      ],
      "metadata": {
        "colab": {
          "base_uri": "https://localhost:8080/"
        },
        "id": "e4Dw_sRM3mTp",
        "outputId": "2ac477ae-eab4-4d92-e207-dab27821b6d1"
      },
      "execution_count": 39,
      "outputs": [
        {
          "output_type": "stream",
          "name": "stdout",
          "text": [
            "1 es unnumero positivo\n"
          ]
        }
      ]
    },
    {
      "cell_type": "markdown",
      "source": [
        "EJERCICIOS TIPO 1 PARTE 2\n"
      ],
      "metadata": {
        "id": "hZ7o5L_V8L-9"
      }
    },
    {
      "cell_type": "code",
      "source": [
        "#EJERCICIO 3\n",
        "while True:\n",
        "    try:\n",
        "        entrada = int(input(\"Escribe un número, bestia: \"))\n",
        "        JJJ = int(input(\"Escribe un número, bestia: \"))\n",
        "\n",
        "        if entrada < JJJ:\n",
        "            print(f\"{JJJ} ese es el mayor\")\n",
        "        else:\n",
        "            print(f\"{entrada} ese es el mayor\")\n",
        "\n",
        "        break\n",
        "    except ValueError:\n",
        "        print(\"Pon algo básico, bobo\")\n"
      ],
      "metadata": {
        "colab": {
          "base_uri": "https://localhost:8080/"
        },
        "id": "_fSh0_i48ONM",
        "outputId": "7bda2f2f-d259-400d-a401-31d80753bd6b"
      },
      "execution_count": 48,
      "outputs": [
        {
          "output_type": "stream",
          "name": "stdout",
          "text": [
            "Escribe un número, bestia: j\n",
            "Pon algo básico, bobo\n",
            "Escribe un número, bestia: j\n",
            "Pon algo básico, bobo\n",
            "Escribe un número, bestia: 1\n",
            "Escribe un número, bestia: 0\n",
            "1 ese es el mayor\n"
          ]
        }
      ]
    },
    {
      "cell_type": "code",
      "source": [
        "#EJERCICIO 4\n",
        "while True:\n",
        "    try:\n",
        "        ñ = int(input(\"Escribe un número (edad entre 1 y 100): \"))\n",
        "\n",
        "        # Validar que la edad esté entre 1 y 100\n",
        "        if ñ < 1 or ñ > 100:\n",
        "            print(\"Edad fuera de rango. Debe estar entre 1 y 100.\")\n",
        "            continue\n",
        "\n",
        "\n",
        "        if ñ > 60:\n",
        "            print(\"La pasó\")\n",
        "        else:\n",
        "            print(\"la perdio\")\n",
        "\n",
        "        break\n",
        "\n",
        "    except ValueError:\n",
        "        print(\"Pon algo básico, bobo\")\n"
      ],
      "metadata": {
        "colab": {
          "base_uri": "https://localhost:8080/"
        },
        "id": "nLBazfws8Qik",
        "outputId": "b886acf2-070f-4c39-c87e-c916a3e9bb65"
      },
      "execution_count": 2,
      "outputs": [
        {
          "output_type": "stream",
          "name": "stdout",
          "text": [
            "Escribe un número (edad entre 1 y 100): 2000\n",
            "Edad fuera de rango. Debe estar entre 1 y 100.\n",
            "Escribe un número (edad entre 1 y 100): 100\n",
            "La pasó\n"
          ]
        }
      ]
    },
    {
      "cell_type": "code",
      "source": [
        "#EJERCICIO 5\n",
        "while True:\n",
        "    try:\n",
        "        n = int(input(\"Ingrese un número: \"))\n",
        "\n",
        "        if n % 2 == 0:\n",
        "            print(n, \"es par.\")\n",
        "        else:\n",
        "            print(n, \"es impar.\")\n",
        "\n",
        "    except ValueError:\n",
        "        print(\"Pon algo básico, bobo\")\n"
      ],
      "metadata": {
        "id": "RIdFVTcI_AGL"
      },
      "execution_count": null,
      "outputs": []
    },
    {
      "cell_type": "code",
      "source": [
        "#EJERCICIO 6\n",
        "\n",
        "while True:\n",
        "    try:\n",
        "        a1 = int(input(\"Escribe un número, bestia para ver cual es el mayor: \"))\n",
        "        a2 = int(input(\"Escribe un número, bestia: \"))\n",
        "        a3 = int(input(\"Escribe un número, bestia: \"))\n",
        "\n",
        "        if a1 < a2 < a3:\n",
        "            print(f\"{a3} ese es el mayor\")\n",
        "        elif a1 < a3 < a2:\n",
        "            print(f\"{a3} ese es el mayor\")\n",
        "        else:\n",
        "            print(f\"{a1} ese es el mayor\")\n",
        "\n",
        "        break\n",
        "    except ValueError:\n",
        "        print(\"Pon algo básico, bobo\")\n"
      ],
      "metadata": {
        "colab": {
          "base_uri": "https://localhost:8080/"
        },
        "id": "sZXkGIsXAVUx",
        "outputId": "e4864b32-b63e-4c02-8571-da26194b7585"
      },
      "execution_count": 12,
      "outputs": [
        {
          "output_type": "stream",
          "name": "stdout",
          "text": [
            "Escribe un número, bestia para ver cual es el mayor: 10000\n",
            "Escribe un número, bestia: 1\n",
            "Escribe un número, bestia: 1\n",
            "10000 ese es el mayor\n"
          ]
        }
      ]
    },
    {
      "cell_type": "code",
      "source": [
        "#EJERCICIO 7\n",
        "while True:\n",
        "    try:\n",
        "        n = int(input(\"Ingrese un número: \"))\n",
        "\n",
        "        if n % 4 == 0:\n",
        "            print(n, \"es bisiesto.\")\n",
        "        else:\n",
        "            print(n, \"es año normal.\")\n",
        "\n",
        "    except ValueError:\n",
        "        print(\"Pon algo básico, bobo\")"
      ],
      "metadata": {
        "id": "mfz--BbXBTch"
      },
      "execution_count": null,
      "outputs": []
    },
    {
      "cell_type": "code",
      "source": [
        "#EJERCICIO 8\n",
        "while True:\n",
        "    password = input(\"Introduce la contraseña: \")\n",
        "\n",
        "    # Verificar que la contraseña tenga al menos 8 caracteres\n",
        "    if len(password) < 8:\n",
        "        print(\"La contraseña debe tener al menos 8 caracteres.\")\n",
        "\n",
        "    # Verificar que la contraseña tenga al menos un número\n",
        "    elif not any(char.isdigit() for char in password):\n",
        "        print(\"La contraseña debe tener al menos un número.\")\n",
        "\n",
        "    # Verificar que la contraseña tenga al menos una letra mayúscula\n",
        "    elif not any(char.isupper() for char in password):\n",
        "        print(\"La contraseña debe tener al menos una letra mayúscula.\")\n",
        "\n",
        "    else:\n",
        "        print(\"Tu contraseña parece correcta.\")\n",
        "        break\n"
      ],
      "metadata": {
        "id": "1jDc_OdACfHJ"
      },
      "execution_count": null,
      "outputs": []
    },
    {
      "cell_type": "code",
      "source": [
        "#EJERCICIO 9\n",
        "while True:\n",
        "    try:\n",
        "        b1 = int(input(\"Ingrese un número: \"))\n",
        "\n",
        "        if b1 % 5 == 0 and b1 % 3 == 0:\n",
        "            print(\"flizzbuzz\")\n",
        "        elif b1 % 5 == 0:\n",
        "            print(\"buzz\")\n",
        "        elif b1 % 3 == 0:\n",
        "            print(\"buzz\")\n",
        "\n",
        "    except ValueError:\n",
        "        print(\"Pon algo básico, bobo\")"
      ],
      "metadata": {
        "id": "5y8Rn5PaDbXZ"
      },
      "execution_count": null,
      "outputs": []
    },
    {
      "cell_type": "code",
      "source": [
        "#EJERCICIO 10\n",
        "while True:\n",
        "    try:\n",
        "        hachiware = int(input(\"Escribe cuanto quieres retirar tu saldo es de 60 \"))\n",
        "\n",
        "        # Validar que la edad esté entre 1 y 100\n",
        "        if hachiware < 1 or hachiware > 60:\n",
        "            print(\"Edad fuera de rango. Debe estar entre 1 y 60.\")\n",
        "            continue\n",
        "\n",
        "\n",
        "        if ñ > 60:\n",
        "            print(\"la operacion es posible\")\n",
        "        else:\n",
        "            print(\"la operacicon no es posible\")\n",
        "\n",
        "        break\n",
        "\n",
        "    except ValueError:\n",
        "        print(\"Pon algo básico, bobo\")"
      ],
      "metadata": {
        "id": "n94zKq7SEbRO"
      },
      "execution_count": null,
      "outputs": []
    }
  ]
}