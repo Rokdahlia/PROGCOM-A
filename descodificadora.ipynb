{
  "nbformat": 4,
  "nbformat_minor": 0,
  "metadata": {
    "colab": {
      "provenance": [],
      "authorship_tag": "ABX9TyO7TVVqZ1suBipNnYBQ6MP4",
      "include_colab_link": true
    },
    "kernelspec": {
      "name": "python3",
      "display_name": "Python 3"
    },
    "language_info": {
      "name": "python"
    }
  },
  "cells": [
    {
      "cell_type": "markdown",
      "metadata": {
        "id": "view-in-github",
        "colab_type": "text"
      },
      "source": [
        "<a href=\"https://colab.research.google.com/github/Rokdahlia/PROGCOM-A/blob/main/descodificadora.ipynb\" target=\"_parent\"><img src=\"https://colab.research.google.com/assets/colab-badge.svg\" alt=\"Open In Colab\"/></a>"
      ]
    },
    {
      "cell_type": "code",
      "execution_count": null,
      "metadata": {
        "colab": {
          "base_uri": "https://localhost:8080/"
        },
        "id": "bjCUJGgjYZCl",
        "outputId": "16e8062b-756c-4084-ba14-d1fc3e5e114d"
      },
      "outputs": [
        {
          "output_type": "stream",
          "name": "stdout",
          "text": [
            "Bienvenido al sistema de codificación/decodificación\n",
            "Por favor, ingresa el mensaje: gaki\n",
            "¿Deseas codificar o decodificar el mensaje? (codificar/decodificar): decodificar\n",
            "\n",
            "Mensaje Decodificado: hOla\n"
          ]
        }
      ],
      "source": [
        "class Concurso:\n",
        "    def __init__(self, mensaje):\n",
        "        self.mensaje = mensaje\n",
        "\n",
        "    def codificar(self):\n",
        "        mensaje_codificado = \"\"\n",
        "        for char in self.mensaje:\n",
        "            if char in \"aeiouAEIOU\":\n",
        "                mensaje_codificado += self.mover_vocal_a_derecha(char)\n",
        "            elif char in \"áéíóúÁÉÍÓÚ\":\n",
        "                mensaje_codificado += self.mover_tilde_a_izquierda(char)\n",
        "            elif char.isalpha() and char not in \"aeiouAEIOUáéíóúÁÉÍÓÚ\":\n",
        "                mensaje_codificado += self.mover_consonante_a_izquierda(char)\n",
        "            else:\n",
        "                mensaje_codificado += char\n",
        "        return mensaje_codificado\n",
        "\n",
        "    def decodificar(self):\n",
        "        mensaje_decodificado = \"\"\n",
        "        for char in self.mensaje:\n",
        "            if char in \"aeiouAEIOU\":\n",
        "                mensaje_decodificado += self.mover_vocal_a_izquierda(char)\n",
        "            elif char in \"áéíóúÁÉÍÓÚ\":\n",
        "                mensaje_decodificado += self.mover_tilde_a_derecha(char)\n",
        "            elif char.isalpha() and char not in \"aeiouAEIOUáéíóúÁÉÍÓÚ\":\n",
        "                mensaje_decodificado += self.mover_consonante_a_derecha(char)\n",
        "            else:\n",
        "                mensaje_decodificado += char\n",
        "        return mensaje_decodificado\n",
        "\n",
        "    def mover_vocal_a_derecha(self, vocal):\n",
        "        vocales = \"aeiouAEIOU\"\n",
        "        if vocal in vocales:\n",
        "            index = vocales.index(vocal)\n",
        "            return vocales[(index + 2) % len(vocales)]\n",
        "        return vocal\n",
        "\n",
        "    def mover_vocal_a_izquierda(self, vocal):\n",
        "        vocales = \"aeiouAEIOU\"\n",
        "        if vocal in vocales:\n",
        "            index = vocales.index(vocal)\n",
        "            return vocales[(index - 2) % len(vocales)]\n",
        "        return vocal\n",
        "\n",
        "    def mover_tilde_a_derecha(self, vocal_tilde):\n",
        "        vocales_tildadas = \"áéíóúÁÉÍÓÚ\"\n",
        "        vocales = \"aeiouAEIOU\"\n",
        "        if vocal_tilde in vocales_tildadas:\n",
        "            index = vocales_tildadas.index(vocal_tilde)\n",
        "            base_vocal = vocales[index % 5]\n",
        "            return self.mover_vocal_a_derecha(base_vocal)\n",
        "        return vocal_tilde\n",
        "\n",
        "    def mover_tilde_a_izquierda(self, vocal_tilde):\n",
        "        vocales_tildadas = \"áéíóúÁÉÍÓÚ\"\n",
        "        vocales = \"aeiouAEIOU\"\n",
        "        if vocal_tilde in vocales_tildadas:\n",
        "            index = vocales_tildadas.index(vocal_tilde)\n",
        "            base_vocal = vocales[index % 5]\n",
        "            return self.mover_vocal_a_izquierda(base_vocal)\n",
        "        return vocal_tilde\n",
        "\n",
        "    def mover_consonante_a_izquierda(self, consonante):\n",
        "        alfabeto = \"abcdefghijklmnopqrstuvwxyzABCDEFGHIJKLMNOPQRSTUVWXYZ\"\n",
        "        if consonante.isalpha() and consonante not in \"aeiouAEIOU\":\n",
        "            index = alfabeto.index(consonante)\n",
        "            return alfabeto[(index - 1) % len(alfabeto)]\n",
        "        return consonante\n",
        "\n",
        "    def mover_consonante_a_derecha(self, consonante):\n",
        "        alfabeto = \"abcdefghijklmnopqrstuvwxyzABCDEFGHIJKLMNOPQRSTUVWXYZ\"\n",
        "        if consonante.isalpha() and consonante not in \"aeiouAEIOU\":\n",
        "            index = alfabeto.index(consonante)\n",
        "            return alfabeto[(index + 1) % len(alfabeto)]\n",
        "        return consonante\n",
        "\n",
        "\n",
        "def main():\n",
        "    print(\"Bienvenido al sistema de codificación/decodificación\")\n",
        "    mensaje = input(\"Por favor, ingresa el mensaje: \")\n",
        "\n",
        "    # Instanciamos el objeto de la clase Concurso\n",
        "    concurso = Concurso(mensaje)\n",
        "\n",
        "    # Pedir al usuario qué acción quiere realizar\n",
        "    accion = input(\"¿Deseas codificar o decodificar el mensaje? (codificar/decodificar): \").strip().lower()\n",
        "\n",
        "    if accion == \"codificar\":\n",
        "        mensaje_codificado = concurso.codificar()\n",
        "        print(\"\\nMensaje Codificado:\", mensaje_codificado)\n",
        "    elif accion == \"decodificar\":\n",
        "        mensaje_decodificado = concurso.decodificar()\n",
        "        print(\"\\nMensaje Decodificado:\", mensaje_decodificado)\n",
        "    else:\n",
        "        print(\"Opción no válida. Por favor, ingresa 'codificar' o 'decodificar'.\")\n",
        "\n",
        "if __name__ == \"__main__\":\n",
        "    main()"
      ]
    }
  ]
}