{
  "nbformat": 4,
  "nbformat_minor": 0,
  "metadata": {
    "colab": {
      "provenance": [],
      "authorship_tag": "ABX9TyPTEJNnCQzpUIWj6m9+E5PV",
      "include_colab_link": true
    },
    "kernelspec": {
      "name": "python3",
      "display_name": "Python 3"
    },
    "language_info": {
      "name": "python"
    }
  },
  "cells": [
    {
      "cell_type": "markdown",
      "metadata": {
        "id": "view-in-github",
        "colab_type": "text"
      },
      "source": [
        "<a href=\"https://colab.research.google.com/github/Rokdahlia/PROGCOM-A/blob/main/ACTIVIDAD_GP1.ipynb\" target=\"_parent\"><img src=\"https://colab.research.google.com/assets/colab-badge.svg\" alt=\"Open In Colab\"/></a>"
      ]
    },
    {
      "cell_type": "code",
      "execution_count": null,
      "metadata": {
        "colab": {
          "base_uri": "https://localhost:8080/"
        },
        "id": "wr3445TD4feS",
        "outputId": "7dac1735-41f4-4ca5-dc08-62c115bcd552"
      },
      "outputs": [
        {
          "output_type": "stream",
          "name": "stdout",
          "text": [
            "==== Juego: Piedra, Papel o Tijera ====\n",
            "Gana quien logre primero 3 victorias.\n",
            "\n",
            "\n",
            "Ronda 1\n",
            "Elige una opción:\n",
            "1. Piedra\n",
            "2. Papel\n",
            "3. Tijera\n"
          ]
        }
      ],
      "source": [
        "import random\n",
        "\n",
        "def piedra_papel_tijera():\n",
        "    puntos_jugador = 0\n",
        "    puntos_cpu = 0\n",
        "    ronda = 1\n",
        "\n",
        "    print(\"==== Juego: Piedra, Papel o Tijera ====\")\n",
        "    print(\"Gana quien logre primero 3 victorias.\\n\")\n",
        "\n",
        "    while puntos_jugador < 3 and puntos_cpu < 3:\n",
        "        print(f\"\\nRonda {ronda}\")\n",
        "        print(\"Elige una opción:\")\n",
        "        print(\"1. Piedra\")\n",
        "        print(\"2. Papel\")\n",
        "        print(\"3. Tijera\")\n",
        "\n",
        "\n",
        "        try:\n",
        "            jugador = int(input(\"Tu elección: \"))\n",
        "        except ValueError:\n",
        "            print(\"Debes ingresar un número (1-3).\")\n",
        "            continue\n",
        "\n",
        "        if jugador < 1 or jugador > 3:\n",
        "            print(\"Opción inválida. Intenta de nuevo.\")\n",
        "            continue\n",
        "\n",
        "\n",
        "        cpu = random.randint(1, 3)\n",
        "\n",
        "        opciones = {1: \"Piedra\", 2: \"Papel\", 3: \"Tijera\"}\n",
        "\n",
        "        print(f\"Tú elegiste: {opciones[jugador]}\")\n",
        "        print(f\"CPU eligió: {opciones[cpu]}\")\n",
        "\n",
        "\n",
        "        if jugador == cpu:\n",
        "            print(\"Empate en esta ronda.\")\n",
        "        elif (jugador == 1 and cpu == 3) or (jugador == 2 and cpu == 1) or (jugador == 3 and cpu == 2):\n",
        "            print(\"Ganaste esta ronda.\")\n",
        "            puntos_jugador += 1\n",
        "        else:\n",
        "            print(\"Perdiste esta ronda.\")\n",
        "            puntos_cpu += 1\n",
        "\n",
        "        print(f\"Puntos → Tú: {puntos_jugador} | CPU: {puntos_cpu}\")\n",
        "        ronda += 1\n",
        "\n",
        "    print(\"\\n==== Resultado Final ====\")\n",
        "    if puntos_jugador == 3:\n",
        "        print(\"Felicidades Ganaste el juego\")\n",
        "    else:\n",
        "        print(\"La CPU ganó el juego\")\n",
        "\n",
        "\n",
        "piedra_papel_tijera()\n"
      ]
    }
  ]
}