{
  "nbformat": 4,
  "nbformat_minor": 0,
  "metadata": {
    "colab": {
      "provenance": []
    },
    "kernelspec": {
      "name": "python3",
      "display_name": "Python 3"
    },
    "language_info": {
      "name": "python"
    }
  },
  "cells": [
    {
      "cell_type": "markdown",
      "source": [
        "#prueba diagnostica"
      ],
      "metadata": {
        "id": "YnxCTTNaMKFd"
      }
    },
    {
      "cell_type": "markdown",
      "source": [
        "##estructura de seleccion\n",
        "Aqui se desarrollaran ejercicios sobre estructuras de seleccion\n"
      ],
      "metadata": {
        "id": "tUURxTzWM_SD"
      }
    },
    {
      "cell_type": "code",
      "execution_count": null,
      "metadata": {
        "id": "smdAsvU7Kzz3"
      },
      "outputs": [],
      "source": [
        "n"
      ]
    }
  ]
}