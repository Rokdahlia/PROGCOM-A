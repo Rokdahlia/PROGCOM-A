{
  "nbformat": 4,
  "nbformat_minor": 0,
  "metadata": {
    "colab": {
      "provenance": [],
      "authorship_tag": "ABX9TyPMpMn4T5ruSCCPrw/EKvWe",
      "include_colab_link": true
    },
    "kernelspec": {
      "name": "python3",
      "display_name": "Python 3"
    },
    "language_info": {
      "name": "python"
    }
  },
  "cells": [
    {
      "cell_type": "markdown",
      "metadata": {
        "id": "view-in-github",
        "colab_type": "text"
      },
      "source": [
        "<a href=\"https://colab.research.google.com/github/Rokdahlia/PROGCOM-A/blob/main/PRUEBA_DIAGNOSTICA_quest_0.ipynb\" target=\"_parent\"><img src=\"https://colab.research.google.com/assets/colab-badge.svg\" alt=\"Open In Colab\"/></a>"
      ]
    },
    {
      "cell_type": "markdown",
      "source": [
        "#prueba diagnostica"
      ],
      "metadata": {
        "id": "YnxCTTNaMKFd"
      }
    },
    {
      "cell_type": "markdown",
      "source": [
        "##estructura de seleccion\n",
        "Aqui se desarrollaran ejercicios sobre estructuras de seleccion\n"
      ],
      "metadata": {
        "id": "tUURxTzWM_SD"
      }
    },
    {
      "cell_type": "markdown",
      "source": [
        "TIPO 1"
      ],
      "metadata": {
        "id": "7L4JaPrVZaCu"
      }
    },
    {
      "cell_type": "code",
      "execution_count": null,
      "metadata": {
        "id": "smdAsvU7Kzz3"
      },
      "outputs": [],
      "source": [
        "#primer ejercicio\n",
        "while True:\n",
        "  try:\n",
        "    entrada = input(\"escribe un numero bestia\")\n",
        "    numero = int(entrada)\n",
        "\n",
        "    if numero > 0 :\n",
        "      print(\"felicidades tu numero es positivo bestia\")\n",
        "\n",
        "    elif numero <= 0 :\n",
        "      print(\"numero no entra en categoria positiva\")\n",
        "\n",
        "    break\n",
        "  except ValueError:\n",
        "    print(\"pon algo basico bobo\")"
      ]
    },
    {
      "cell_type": "code",
      "source": [
        "#segundo ejercicio\n",
        "while True:\n",
        "    try:\n",
        "        entrada = input(\"Escribe un número, bestia: \")\n",
        "        lucas = int(entrada)\n",
        "\n",
        "        if lucas < 18:\n",
        "            print(\"Mal menor\")\n",
        "        else:\n",
        "            print(\"Eres mayor de edad\")\n",
        "\n",
        "        break\n",
        "    except ValueError:\n",
        "        print(\"Pon algo básico, bobo\")\n"
      ],
      "metadata": {
        "colab": {
          "base_uri": "https://localhost:8080/"
        },
        "id": "DmUvCZOeeIVq",
        "outputId": "cb731240-1cbc-4277-e561-83b81ac399ca"
      },
      "execution_count": 108,
      "outputs": [
        {
          "output_type": "stream",
          "name": "stdout",
          "text": [
            "Escribe un número, bestia: 18\n",
            "Eres mayor de edad\n"
          ]
        }
      ]
    },
    {
      "cell_type": "markdown",
      "source": [
        "TIPO 2"
      ],
      "metadata": {
        "id": "VbH3cWq4ZdcO"
      }
    },
    {
      "cell_type": "code",
      "source": [
        "#primer ejercicio\n",
        "print(\"1,2,3,4,5,6,7,8,9,10\")"
      ],
      "metadata": {
        "id": "NSlV6AVVX36h",
        "colab": {
          "base_uri": "https://localhost:8080/"
        },
        "outputId": "ed61af33-06bf-4be3-9ebf-83a5e32b40f5"
      },
      "execution_count": null,
      "outputs": [
        {
          "output_type": "stream",
          "name": "stdout",
          "text": [
            "1,2,3,4,5,6,7,8,9,10\n"
          ]
        }
      ]
    },
    {
      "cell_type": "code",
      "source": [
        "#segundo ejercicio\n",
        "\n",
        "usagi = sum(range(1,101))\n",
        "print(usagi)"
      ],
      "metadata": {
        "id": "bViXcNzWbFa9",
        "colab": {
          "base_uri": "https://localhost:8080/"
        },
        "outputId": "fded26a7-8994-46c3-fde7-2a619f7792ee"
      },
      "execution_count": 92,
      "outputs": [
        {
          "output_type": "stream",
          "name": "stdout",
          "text": [
            "5050\n"
          ]
        }
      ]
    },
    {
      "cell_type": "markdown",
      "source": [
        "TIPO 3"
      ],
      "metadata": {
        "id": "dATkZufGZ8S1"
      }
    },
    {
      "cell_type": "code",
      "source": [
        "#primer ejercicio\n",
        "print(\"pon un numero para potenciar a su cuadrado\")\n",
        "\n",
        "while True:\n",
        "  try:\n",
        "    chiikawa = int(input(\"numero\"))\n",
        "    hachiware = (chiikawa * chiikawa)\n",
        "    print(\"tu numero es\")\n",
        "    print(hachiware)\n",
        "    break\n",
        "\n",
        "  except ValueError:\n",
        "    print(\"pon algo basico bobo\")\n",
        "\n",
        "\n",
        "\n"
      ],
      "metadata": {
        "colab": {
          "base_uri": "https://localhost:8080/"
        },
        "id": "tBKYakolZvKu",
        "outputId": "3459b3ba-57b3-4c58-c39b-e70f111ffc85"
      },
      "execution_count": 47,
      "outputs": [
        {
          "output_type": "stream",
          "name": "stdout",
          "text": [
            "pon un numero para potenciar a su cuadrado\n",
            "numerodas\n",
            "pon algo basico bobo\n",
            "numerosdaa\n",
            "pon algo basico bobo\n",
            "numero.\n",
            "pon algo basico bobo\n",
            "numero0.33\n",
            "pon algo basico bobo\n",
            "numero-4\n",
            "tu numero es\n",
            "16\n"
          ]
        }
      ]
    },
    {
      "cell_type": "code",
      "source": [],
      "metadata": {
        "id": "hoo-fRulaNwO"
      },
      "execution_count": null,
      "outputs": []
    }
  ]
}