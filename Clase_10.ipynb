{
  "nbformat": 4,
  "nbformat_minor": 0,
  "metadata": {
    "colab": {
      "provenance": [],
      "authorship_tag": "ABX9TyMLi6TsFeC6amAOoSrqNwvH",
      "include_colab_link": true
    },
    "kernelspec": {
      "name": "python3",
      "display_name": "Python 3"
    },
    "language_info": {
      "name": "python"
    }
  },
  "cells": [
    {
      "cell_type": "markdown",
      "metadata": {
        "id": "view-in-github",
        "colab_type": "text"
      },
      "source": [
        "<a href=\"https://colab.research.google.com/github/Rokdahlia/PROGCOM-A/blob/main/Clase_10.ipynb\" target=\"_parent\"><img src=\"https://colab.research.google.com/assets/colab-badge.svg\" alt=\"Open In Colab\"/></a>"
      ]
    },
    {
      "cell_type": "markdown",
      "source": [],
      "metadata": {
        "id": "zpS9x8Q-OH6n"
      }
    },
    {
      "cell_type": "code",
      "source": [
        "class Casa:\n",
        "\n",
        "  \"\"\"\n",
        "  construir el constructor\n",
        "  argumentos:\n",
        "    color(str):color de la casa\n",
        "    numero_habitaciones(int): el numero de habitaciones de la casa\n",
        "    numero_baños(int): el numero de baños de la casa\n",
        "    estacionamiento(bool): si tiene estacionamiento o no\n",
        "    tiene_patio(bool): si tiene patio o no\n",
        "  \"\"\"\n",
        "  def __init__(self,color,numero_habitaciones,numero_baños,estacionamiento,tiene_patio):\n",
        "    self.color=color\n",
        "    self.numero_habitaciones=numero_habitaciones\n",
        "    self.numero_baños=numero_baños\n",
        "    self.estacionamiento=estacionamiento\n",
        "    self.tiene_patio=tiene_patio\n",
        "\n",
        "  def descripcion(self):\n",
        "    #describir la casa\n",
        "    descripcion=f\"La casa es de color {self.color}, tiene {self.numero_habitaciones} habitaciones, {self.numero_baños} baños, \"\n",
        "    if self.estacionamiento:\n",
        "      descripcion+=\"tiene estacionamiento, \"\n",
        "    else:\n",
        "      descripcion+=\"no tiene estacionamiento, \"\n",
        "    if self.tiene_patio:\n",
        "      descripcion+=\"tiene patio\"\n",
        "    else:\n",
        "      descripcion+=\"no tiene patio\"\n",
        "    return descripcion\n",
        "\n",
        "  def pintar(self,nuevo_color):\n",
        "    self.color=nuevo_color\n",
        "    print(f\"La casa ha sido pintada de color {self.color}\")"
      ],
      "metadata": {
        "id": "bU_N1AGXOBcO"
      },
      "execution_count": 5,
      "outputs": []
    },
    {
      "cell_type": "code",
      "source": [
        "mi_casa=Casa(\"azul\",2,9,True,True)\n",
        "type(mi_casa)"
      ],
      "metadata": {
        "colab": {
          "base_uri": "https://localhost:8080/",
          "height": 187
        },
        "id": "9evu6k0YS6fv",
        "outputId": "9f00f52b-0519-4dea-952d-68b742a0593d"
      },
      "execution_count": 6,
      "outputs": [
        {
          "output_type": "execute_result",
          "data": {
            "text/plain": [
              "__main__.Casa"
            ],
            "text/html": [
              "<div style=\"max-width:800px; border: 1px solid var(--colab-border-color);\"><style>\n",
              "      pre.function-repr-contents {\n",
              "        overflow-x: auto;\n",
              "        padding: 8px 12px;\n",
              "        max-height: 500px;\n",
              "      }\n",
              "\n",
              "      pre.function-repr-contents.function-repr-contents-collapsed {\n",
              "        cursor: pointer;\n",
              "        max-height: 100px;\n",
              "      }\n",
              "    </style>\n",
              "    <pre style=\"white-space: initial; background:\n",
              "         var(--colab-secondary-surface-color); padding: 8px 12px;\n",
              "         border-bottom: 1px solid var(--colab-border-color);\"><b>Casa</b><br/>def __init__(color, numero_habitaciones, numero_baños, estacionamiento, tiene_patio)</pre><pre class=\"function-repr-contents function-repr-contents-collapsed\" style=\"\"><a class=\"filepath\" style=\"display:none\" href=\"#\"></a>construir el constructor \n",
              "argumentos:\n",
              "  color(str):color de la casa\n",
              "  numero_habitaciones(int): el numero de habitaciones de la casa\n",
              "  numero_baños(int): el numero de baños de la casa\n",
              "  estacionamiento(bool): si tiene estacionamiento o no\n",
              "  tiene_patio(bool): si tiene patio o no</pre></div>"
            ]
          },
          "metadata": {},
          "execution_count": 6
        }
      ]
    },
    {
      "cell_type": "code",
      "source": [
        "mi_casa.pintar(\"verde\")"
      ],
      "metadata": {
        "colab": {
          "base_uri": "https://localhost:8080/"
        },
        "id": "c10_DKb-OZUu",
        "outputId": "b3eaaae9-bf99-40f5-bdf3-f28182f73254"
      },
      "execution_count": 7,
      "outputs": [
        {
          "output_type": "stream",
          "name": "stdout",
          "text": [
            "La casa ha sido pintada de color verde\n"
          ]
        }
      ]
    },
    {
      "cell_type": "code",
      "source": [
        "class Floristeria(Casa):\n",
        "  \"\"\"\n",
        "  Constructor de la floristeria\n",
        "  Argumentos:\n",
        "    color(str): color de la floristeria\n",
        "    numero_habitaciones(int): numero de habitaciones de la floristeria\n",
        "    numero_baños(int): numero de baños de la floristeria\n",
        "    tipos_flores(list): lista de tipos de flores que tiene la floristeria\n",
        "    nombre_floristeria(str): nombre de la floristeria\n",
        "  \"\"\"\n",
        "  def init(self,color,numero_habitaciones,numero_baños,tipos_flores):\n",
        "    super().init(color,numero_habitaciones,numero_baños)\n",
        "    self.nombre_floristeria=nombre_floristeria\n",
        "    self.tipos_flores=tipos_flores\n"
      ],
      "metadata": {
        "id": "SzQZqhjhYFtq"
      },
      "execution_count": 8,
      "outputs": []
    },
    {
      "cell_type": "code",
      "source": [
        "mi_floristeria=Floristeria(\"azul\",9,0,\"Floristeria\", [\"petunias\",])\n",
        "mi_floristeria.descripcion()\n"
      ],
      "metadata": {
        "colab": {
          "base_uri": "https://localhost:8080/",
          "height": 35
        },
        "id": "Ybp8L38IYEu4",
        "outputId": "b569a2bf-c560-4bf7-bf7c-f90eca5eebe7"
      },
      "execution_count": 11,
      "outputs": [
        {
          "output_type": "execute_result",
          "data": {
            "text/plain": [
              "'La casa es de color azul, tiene 9 habitaciones, 0 baños, tiene estacionamiento, tiene patio'"
            ],
            "application/vnd.google.colaboratory.intrinsic+json": {
              "type": "string"
            }
          },
          "metadata": {},
          "execution_count": 11
        }
      ]
    },
    {
      "cell_type": "code",
      "source": [
        "mi_floristeria= Floristeria(\"blanco con marron\",1,0,\"La Floristeria C\",[\"todas\"])\n",
        "mi_floristeria.descripcion()"
      ],
      "metadata": {
        "colab": {
          "base_uri": "https://localhost:8080/",
          "height": 35
        },
        "id": "mzb8AUBodWn4",
        "outputId": "eb4c8e77-ce0c-49f2-9fff-08467581a24a"
      },
      "execution_count": 13,
      "outputs": [
        {
          "output_type": "execute_result",
          "data": {
            "text/plain": [
              "'La casa es de color blanco con marron, tiene 1 habitaciones, 0 baños, tiene estacionamiento, tiene patio'"
            ],
            "application/vnd.google.colaboratory.intrinsic+json": {
              "type": "string"
            }
          },
          "metadata": {},
          "execution_count": 13
        }
      ]
    },
    {
      "cell_type": "code",
      "source": [
        "class Concurso():\n",
        "\"\"\"\n",
        "Atributos\n",
        "\n",
        "Mensaje: mensaje a decodificar\n",
        "\n",
        "Métodos: codificar\n",
        "\n",
        "método: decodificar\n",
        "\n",
        "Vocal: 2 a la derecha. U---->e\n",
        "tilde: 2 a la izquierda.\n",
        "consonante:1 a la izquierda d--->c\n",
        "GAKI\n",
        "\"\"\""
      ],
      "metadata": {
        "id": "JpsjudhkfMzR"
      },
      "execution_count": null,
      "outputs": []
    },
    {
      "cell_type": "markdown",
      "source": [
        "class Concurso():\n",
        "\"\"\"\n",
        "Atributos\n",
        "\n",
        "Mensaje: mensaje a decodificar\n",
        "\n",
        "Métodos: codificar\n",
        "\n",
        "Pétodo: decodificar\n",
        "\"\"\""
      ],
      "metadata": {
        "id": "HkJXcZRCfH9v"
      }
    }
  ]
}