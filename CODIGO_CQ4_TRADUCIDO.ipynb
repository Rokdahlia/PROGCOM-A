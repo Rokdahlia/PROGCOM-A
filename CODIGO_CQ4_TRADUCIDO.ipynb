{
  "nbformat": 4,
  "nbformat_minor": 0,
  "metadata": {
    "colab": {
      "provenance": [],
      "include_colab_link": true
    },
    "kernelspec": {
      "name": "python3",
      "display_name": "Python 3"
    },
    "language_info": {
      "name": "python"
    }
  },
  "cells": [
    {
      "cell_type": "markdown",
      "metadata": {
        "id": "view-in-github",
        "colab_type": "text"
      },
      "source": [
        "<a href=\"https://colab.research.google.com/github/Rokdahlia/PROGCOM-A/blob/main/CODIGO_CQ4_TRADUCIDO.ipynb\" target=\"_parent\"><img src=\"https://colab.research.google.com/assets/colab-badge.svg\" alt=\"Open In Colab\"/></a>"
      ]
    },
    {
      "cell_type": "code",
      "source": [
        "#Main(Principal)\n",
        "from tkinter import *\n",
        "import configuraciones\n",
        "import utilidades\n",
        "\n",
        "ventana = Tk()\n",
        "# Configuración de la ventana\n",
        "ventana.configure(bg=\"black\")\n",
        "ventana.geometry(f'{configuraciones.ANCHO}x{configuraciones.ALTO}')\n",
        "ventana.title(\"Juego Buscaminas\")\n",
        "ventana.resizable(False, False)\n",
        "\n",
        "marco_superior = Frame(\n",
        "    ventana,\n",
        "    bg='black',\n",
        "    width=configuraciones.ANCHO,\n",
        "    height=utilidades.altura_pct(25)\n",
        ")\n",
        "marco_superior.place(x=0, y=0)\n",
        "\n",
        "marco_izquierdo = Frame(\n",
        "    ventana,\n",
        "    bg='black',\n",
        "    width=utilidades.ancho_pct(25),\n",
        "    height=utilidades.altura_pct(75)\n",
        ")\n",
        "marco_izquierdo.place(x=0, y=utilidades.altura_pct(25))\n",
        "\n",
        "marco_central = Frame(\n",
        "    ventana,\n",
        "    bg='black',\n",
        "    width=utilidades.ancho_pct(75),\n",
        "    height=utilidades.altura_pct(75)\n",
        ")\n",
        "marco_central.place(\n",
        "    x=utilidades.ancho_pct(25),\n",
        "    y=utilidades.altura_pct(25),\n",
        ")\n",
        "\n",
        "# Ejecutar la ventana\n",
        "ventana.mainloop()\n"
      ],
      "metadata": {
        "id": "zQ3Ra8eHNZNo"
      },
      "execution_count": null,
      "outputs": []
    },
    {
      "cell_type": "code",
      "source": [
        "#Settings(Configuraciones)\n",
        "ANCHO = 1440\n",
        "ALTO = 720\n"
      ],
      "metadata": {
        "id": "kjTrbEIMNdeT"
      },
      "execution_count": null,
      "outputs": []
    },
    {
      "cell_type": "code",
      "source": [
        "#Utils(Utilidades)\n",
        "import configuraciones\n",
        "\n",
        "def altura_pct(porcentaje):\n",
        "    return (configuraciones.ALTO / 100) * porcentaje\n",
        "\n",
        "def ancho_pct(porcentaje):\n",
        "    return (configuraciones.ANCHO / 100) * porcentaje"
      ],
      "metadata": {
        "id": "A793qGvlNex7"
      },
      "execution_count": null,
      "outputs": []
    },
    {
      "cell_type": "code",
      "source": [
        "# (PRINCIPAL)\n",
        "from tkinter import *\n",
        "import configuraciones\n",
        "import utilidades\n",
        "\n",
        "ventana = Tk()\n",
        "ventana.configure(bg=\"black\")\n",
        "ventana.geometry(f'{configuraciones.ANCHO}x{configuraciones.ALTO}')\n",
        "ventana.title('Juego de Buscaminas')\n",
        "ventana.resizable(False, False)\n",
        "\n",
        "marco_superior = Frame(\n",
        "    ventana,\n",
        "    bg='black',\n",
        "    width=configuraciones.ANCHO,\n",
        "    height=utilidades.altura_prct(25)\n",
        ")\n",
        "marco_superior.place(x=0, y=0)\n",
        "\n",
        "marco_izquierdo = Frame(\n",
        "    ventana,\n",
        "    bg='black',\n",
        "    width=utilidades.ancho_prct(25),\n",
        "    height=utilidades.altura_prct(75)\n",
        ")\n",
        "marco_izquierdo.place(x=0, y=utilidades.altura_prct(25))\n",
        "\n",
        "marco_central = Frame(\n",
        "    ventana,\n",
        "    bg='black',\n",
        "    width=utilidades.ancho_prct(75),\n",
        "    height=utilidades.altura_prct(75)\n",
        ")\n",
        "marco_central.place(\n",
        "    x=utilidades.ancho_prct(25),\n",
        "    y=utilidades.altura_prct(25)\n",
        ")\n",
        "\n",
        "boton1 = Button(\n",
        "    marco_central,\n",
        "    bg='blue',\n",
        "    text='Primer Botón'\n",
        ")\n",
        "boton1.place(x=0, y=0)\n",
        "\n",
        "ventana.mainloop()\n"
      ],
      "metadata": {
        "id": "STivEVKsNmpT"
      },
      "execution_count": null,
      "outputs": []
    },
    {
      "cell_type": "code",
      "source": [
        "# (EJEMPLO DE BOTÓN)\n",
        "boton1 = Button(\n",
        "    marco_central,\n",
        "    bg='blue',\n",
        "    text='Primer Botón'\n",
        ")\n",
        "\n"
      ],
      "metadata": {
        "id": "SaMN2pqNOZyA"
      },
      "execution_count": null,
      "outputs": []
    },
    {
      "cell_type": "code",
      "source": [
        "import tkinter as tk\n",
        "from celda import Celda\n",
        "\n",
        "def crear_cuadricula(tamaño):\n",
        "    for columna in range(tamaño):\n",
        "        for fila in range(tamaño):\n",
        "            celda = Celda(columna, fila)\n",
        "            celda.crear_boton(marco)\n",
        "\n",
        "ventana = tk.Tk()\n",
        "ventana.title(\"Juego de Celdas\")\n",
        "marco = tk.Frame(ventana)\n",
        "marco.pack()\n",
        "\n",
        "crear_cuadricula(5)\n",
        "\n",
        "ventana.mainloop()\n"
      ],
      "metadata": {
        "id": "SccMJwS5OmSH"
      },
      "execution_count": null,
      "outputs": []
    },
    {
      "cell_type": "code",
      "source": [
        "class Celda:\n",
        "    def __init__(self, es_mina=False):\n",
        "        self.es_mina = es_mina\n"
      ],
      "metadata": {
        "id": "B2MJ8OfPO3wl"
      },
      "execution_count": null,
      "outputs": []
    },
    {
      "cell_type": "code",
      "source": [
        "import tkinter as tk\n",
        "\n",
        "class Celda:\n",
        "    todas = []\n",
        "\n",
        "    def __init__(self, columna, fila):\n",
        "        self.columna = columna\n",
        "        self.fila = fila\n",
        "        self.es_mina = False\n",
        "        self.boton = None\n",
        "        Celda.todas.append(self)\n",
        "\n",
        "    def crear_boton(self, marco):\n",
        "        self.boton = tk.Button(marco, width=6, height=2)\n",
        "        self.boton.grid(row=self.fila, column=self.columna)\n",
        "        self.boton.bind('', self.clic_izquierdo)\n",
        "        self.boton.bind('', self.clic_derecho)\n",
        "\n",
        "    def clic_izquierdo(self, evento):\n",
        "        if self.es_mina:\n",
        "            self.boton.config(bg='red')\n",
        "        else:\n",
        "            self.boton.config(bg='green')\n",
        "\n",
        "    def clic_derecho(self, evento):\n",
        "        self.boton.config(text='⚑')"
      ],
      "metadata": {
        "id": "mPiMkfUBO-sE"
      },
      "execution_count": null,
      "outputs": []
    }
  ]
}