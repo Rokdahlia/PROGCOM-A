{
  "nbformat": 4,
  "nbformat_minor": 0,
  "metadata": {
    "colab": {
      "provenance": [],
      "authorship_tag": "ABX9TyNt/S6Rb55mFmSGt5RUEDEk",
      "include_colab_link": true
    },
    "kernelspec": {
      "name": "python3",
      "display_name": "Python 3"
    },
    "language_info": {
      "name": "python"
    }
  },
  "cells": [
    {
      "cell_type": "markdown",
      "metadata": {
        "id": "view-in-github",
        "colab_type": "text"
      },
      "source": [
        "<a href=\"https://colab.research.google.com/github/Rokdahlia/PROGCOM-A/blob/main/CALCULADORA_INTERES_SIMPLE%20%20%20GQ3%20.ipynb\" target=\"_parent\"><img src=\"https://colab.research.google.com/assets/colab-badge.svg\" alt=\"Open In Colab\"/></a>"
      ]
    },
    {
      "cell_type": "code",
      "execution_count": 1,
      "metadata": {
        "colab": {
          "base_uri": "https://localhost:8080/"
        },
        "id": "W3BIM9G66CPv",
        "outputId": "18fa00ea-df65-4641-89b0-92e8dc77f026"
      },
      "outputs": [
        {
          "output_type": "stream",
          "name": "stdout",
          "text": [
            "=== Calculadora de Interés Simple ===\n",
            "Ingrese el capital inicial: 1000\n",
            "Ingrese la tasa de interés (%): 10\n",
            "Ingrese el tiempo (en años): 2\n",
            "\n",
            "Interés generado: $200.00\n",
            "Monto total (Capital + Interés): $1200.00\n"
          ]
        }
      ],
      "source": [
        "\n",
        "\n",
        "def IS(capital, tasa, tiempo):\n",
        "    interes = capital * tasa * tiempo\n",
        "    monto_total = capital + interes\n",
        "    return interes, monto_total\n",
        "\n",
        "\n",
        "print(\"=== Calculadora de Interés Simple ===\")\n",
        "\n",
        "\n",
        "P = float(input(\"Ingrese el capital inicial: \"))\n",
        "r = float(input(\"Ingrese la tasa de interés (%): \")) / 100\n",
        "t = float(input(\"Ingrese el tiempo (en años): \"))\n",
        "\n",
        "\n",
        "interes, monto_total = IS(P, r, t)\n",
        "\n",
        "\n",
        "print(f\"\\nInterés generado: ${interes:.2f}\")\n",
        "print(f\"Monto total (Capital + Interés): ${monto_total:.2f}\")\n"
      ]
    }
  ]
}