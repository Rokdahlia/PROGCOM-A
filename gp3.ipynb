{
  "nbformat": 4,
  "nbformat_minor": 0,
  "metadata": {
    "colab": {
      "provenance": [],
      "authorship_tag": "ABX9TyMugWdZs9m55PpDhXIy2ovF",
      "include_colab_link": true
    },
    "kernelspec": {
      "name": "python3",
      "display_name": "Python 3"
    },
    "language_info": {
      "name": "python"
    }
  },
  "cells": [
    {
      "cell_type": "markdown",
      "metadata": {
        "id": "view-in-github",
        "colab_type": "text"
      },
      "source": [
        "<a href=\"https://colab.research.google.com/github/Rokdahlia/PROGCOM-A/blob/main/gp3.ipynb\" target=\"_parent\"><img src=\"https://colab.research.google.com/assets/colab-badge.svg\" alt=\"Open In Colab\"/></a>"
      ]
    },
    {
      "cell_type": "code",
      "execution_count": 2,
      "metadata": {
        "colab": {
          "base_uri": "https://localhost:8080/"
        },
        "id": "D92UVUcfOQcy",
        "outputId": "7d9284f4-eee3-4d8c-a614-32401d556289"
      },
      "outputs": [
        {
          "output_type": "stream",
          "name": "stdout",
          "text": [
            "Estado actual de los billetes en el cajero:\n",
            "Billetes de 100: 50\n",
            "Billetes de 50: 100\n",
            "Billetes de 20: 200\n",
            "Billetes de 10: 300\n",
            "Billetes de 5: 500\n",
            "Billetes de 1: 1000\n",
            "Ingrese la cantidad a retirar: 10000000\n",
            "No hay suficientes billetes para completar la transacción.\n",
            "Estado actual de los billetes en el cajero:\n",
            "Billetes de 100: 0\n",
            "Billetes de 50: 0\n",
            "Billetes de 20: 0\n",
            "Billetes de 10: 0\n",
            "Billetes de 5: 0\n",
            "Billetes de 1: 0\n",
            "El cajero está fuera de servicio.\n",
            "El cajero está fuera de servicio por falta de billetes.\n",
            "El cajero ha sido puesto fuera de servicio.\n"
          ]
        }
      ],
      "source": [
        "class CajeroAutomatico:\n",
        "    def __init__(self):\n",
        "        # Inicialización de las denominaciones y la cantidad de billetes en el cajero\n",
        "        self.billetes = {\n",
        "            100: 50,  # 50 billetes de 100\n",
        "            50: 100,  # 100 billetes de 50\n",
        "            20: 200,  # 200 billetes de 20\n",
        "            10: 300,  # 300 billetes de 10\n",
        "            5: 500,   # 500 billetes de 5\n",
        "            1: 1000   # 1000 billetes de 1\n",
        "        }\n",
        "\n",
        "    def mostrar_estado(self):\n",
        "        # Muestra el estado actual de los billetes en el cajero\n",
        "        print(\"Estado actual de los billetes en el cajero:\")\n",
        "        for denominacion, cantidad in sorted(self.billetes.items(), reverse=True):\n",
        "            print(f\"Billetes de {denominacion}: {cantidad}\")\n",
        "\n",
        "    def retirar(self, cantidad):\n",
        "        # Lógica para retirar una cantidad de dinero\n",
        "        if cantidad <= 0:\n",
        "            print(\"La cantidad a retirar debe ser mayor que 0.\")\n",
        "            return\n",
        "\n",
        "        # Almacena la cantidad que se va a entregar\n",
        "        dinero_a_entregar = {}\n",
        "\n",
        "        # Intentar retirar la cantidad solicitada con los billetes disponibles\n",
        "        for denominacion in sorted(self.billetes.keys(), reverse=True):\n",
        "            if cantidad <= 0:\n",
        "                break  # Ya hemos entregado toda la cantidad solicitada\n",
        "\n",
        "            if self.billetes[denominacion] > 0 and cantidad >= denominacion:\n",
        "                billetes_a_dar = min(cantidad // denominacion, self.billetes[denominacion])\n",
        "                cantidad -= billetes_a_dar * denominacion\n",
        "                self.billetes[denominacion] -= billetes_a_dar\n",
        "                dinero_a_entregar[denominacion] = billetes_a_dar\n",
        "\n",
        "        # Verificar si la cantidad solicitada fue completada\n",
        "        if cantidad > 0:\n",
        "            print(\"No hay suficientes billetes para completar la transacción.\")\n",
        "            self.mostrar_estado()  # Mostrar el estado actual de los billetes\n",
        "            print(\"El cajero está fuera de servicio.\")\n",
        "        else:\n",
        "            # Si la transacción se completó correctamente, mostrar el desglose\n",
        "            print(\"Transacción realizada exitosamente:\")\n",
        "            for denominacion, cantidad in dinero_a_entregar.items():\n",
        "                print(f\"{cantidad} billetes de {denominacion}\")\n",
        "            self.mostrar_estado()  # Mostrar el estado actualizado\n",
        "\n",
        "    def poner_fuera_de_servicio(self):\n",
        "        # Comprobamos si el cajero tiene suficientes billetes\n",
        "        if all(cantidad == 0 for cantidad in self.billetes.values()):\n",
        "            print(\"El cajero está fuera de servicio por falta de billetes.\")\n",
        "            return True\n",
        "        return False\n",
        "\n",
        "\n",
        "# Uso del Cajero\n",
        "cajero = CajeroAutomatico()\n",
        "\n",
        "# Mostrar el estado inicial\n",
        "cajero.mostrar_estado()\n",
        "\n",
        "# Intentar realizar una transacción\n",
        "monto = int(input(\"Ingrese la cantidad a retirar: \"))\n",
        "cajero.retirar(monto)\n",
        "\n",
        "# Comprobamos si el cajero está fuera de servicio\n",
        "if cajero.poner_fuera_de_servicio():\n",
        "    print(\"El cajero ha sido puesto fuera de servicio.\")\n"
      ]
    }
  ]
}