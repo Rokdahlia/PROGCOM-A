{
  "nbformat": 4,
  "nbformat_minor": 0,
  "metadata": {
    "colab": {
      "provenance": [],
      "authorship_tag": "ABX9TyPAuSeLo4qFz/Bgmg5YZCc1",
      "include_colab_link": true
    },
    "kernelspec": {
      "name": "python3",
      "display_name": "Python 3"
    },
    "language_info": {
      "name": "python"
    }
  },
  "cells": [
    {
      "cell_type": "markdown",
      "metadata": {
        "id": "view-in-github",
        "colab_type": "text"
      },
      "source": [
        "<a href=\"https://colab.research.google.com/github/Rokdahlia/PROGCOM-A/blob/main/Clase_estructura_de_repeticion.ipynb\" target=\"_parent\"><img src=\"https://colab.research.google.com/assets/colab-badge.svg\" alt=\"Open In Colab\"/></a>"
      ]
    },
    {
      "cell_type": "markdown",
      "source": [
        "#Estructuras de repeticion\n",
        "permite repetir una o mas acciones de acuerdo con una condicion---------------------------"
      ],
      "metadata": {
        "id": "Wb8UslcPSCBs"
      }
    },
    {
      "cell_type": "markdown",
      "source": [
        "#estructura para for\n",
        "\n",
        "1. Cuando se sabe cuantas veces se repite una accion.\n",
        "2. esta conformado por una condicion inicial (CI) una condicion final (cf) y pasos (frecuencia de repeticion).\n",
        "3. Esta estrucura no se dentendra, hasta alcanzar CF-1\n",
        "\n",
        "ESTRUCTURA GENERAL DEL FOR\n",
        "for (variable) in range (CI, CF+1, paso):\n",
        "\n",
        "Estructura resumida fel for\n",
        "\n",
        "for(variable in range(cantidad):\n",
        " Se repite cantidad de veces una accion\n",
        "\n",
        " estructura for como iteracion\n",
        "\n",
        "  #tiene formato de codigo\n",
        "\n",
        "  lista=[1,2,3,4,5]\n",
        "  for variable in lista:\n",
        "   \n",
        "   se repite len(lista)"
      ],
      "metadata": {
        "id": "QrZbgnVxSrVz"
      }
    },
    {
      "cell_type": "code",
      "source": [
        "#hacer la tabla de multiplicar de un numero n\n",
        "n=int(input(\"digita numero:\"))\n"
      ],
      "metadata": {
        "colab": {
          "base_uri": "https://localhost:8080/",
          "height": 304
        },
        "id": "6QBOIwsMVMyJ",
        "outputId": "77106b13-cc6b-436c-c2d0-108804bce1db"
      },
      "execution_count": null,
      "outputs": [
        {
          "output_type": "error",
          "ename": "KeyboardInterrupt",
          "evalue": "Interrupted by user",
          "traceback": [
            "\u001b[0;31m---------------------------------------------------------------------------\u001b[0m",
            "\u001b[0;31mKeyboardInterrupt\u001b[0m                         Traceback (most recent call last)",
            "\u001b[0;32m/tmp/ipython-input-2618757161.py\u001b[0m in \u001b[0;36m<cell line: 0>\u001b[0;34m()\u001b[0m\n\u001b[1;32m      1\u001b[0m \u001b[0;31m#hacer la tabla de multiplicar de un numero n\u001b[0m\u001b[0;34m\u001b[0m\u001b[0;34m\u001b[0m\u001b[0m\n\u001b[0;32m----> 2\u001b[0;31m \u001b[0mn\u001b[0m\u001b[0;34m=\u001b[0m\u001b[0mint\u001b[0m\u001b[0;34m(\u001b[0m\u001b[0minput\u001b[0m\u001b[0;34m(\u001b[0m\u001b[0;34m\"digita numero:\"\u001b[0m\u001b[0;34m)\u001b[0m\u001b[0;34m)\u001b[0m\u001b[0;34m\u001b[0m\u001b[0;34m\u001b[0m\u001b[0m\n\u001b[0m",
            "\u001b[0;32m/usr/local/lib/python3.11/dist-packages/ipykernel/kernelbase.py\u001b[0m in \u001b[0;36mraw_input\u001b[0;34m(self, prompt)\u001b[0m\n\u001b[1;32m   1175\u001b[0m                 \u001b[0;34m\"raw_input was called, but this frontend does not support input requests.\"\u001b[0m\u001b[0;34m\u001b[0m\u001b[0;34m\u001b[0m\u001b[0m\n\u001b[1;32m   1176\u001b[0m             )\n\u001b[0;32m-> 1177\u001b[0;31m         return self._input_request(\n\u001b[0m\u001b[1;32m   1178\u001b[0m             \u001b[0mstr\u001b[0m\u001b[0;34m(\u001b[0m\u001b[0mprompt\u001b[0m\u001b[0;34m)\u001b[0m\u001b[0;34m,\u001b[0m\u001b[0;34m\u001b[0m\u001b[0;34m\u001b[0m\u001b[0m\n\u001b[1;32m   1179\u001b[0m             \u001b[0mself\u001b[0m\u001b[0;34m.\u001b[0m\u001b[0m_parent_ident\u001b[0m\u001b[0;34m[\u001b[0m\u001b[0;34m\"shell\"\u001b[0m\u001b[0;34m]\u001b[0m\u001b[0;34m,\u001b[0m\u001b[0;34m\u001b[0m\u001b[0;34m\u001b[0m\u001b[0m\n",
            "\u001b[0;32m/usr/local/lib/python3.11/dist-packages/ipykernel/kernelbase.py\u001b[0m in \u001b[0;36m_input_request\u001b[0;34m(self, prompt, ident, parent, password)\u001b[0m\n\u001b[1;32m   1217\u001b[0m             \u001b[0;32mexcept\u001b[0m \u001b[0mKeyboardInterrupt\u001b[0m\u001b[0;34m:\u001b[0m\u001b[0;34m\u001b[0m\u001b[0;34m\u001b[0m\u001b[0m\n\u001b[1;32m   1218\u001b[0m                 \u001b[0;31m# re-raise KeyboardInterrupt, to truncate traceback\u001b[0m\u001b[0;34m\u001b[0m\u001b[0;34m\u001b[0m\u001b[0m\n\u001b[0;32m-> 1219\u001b[0;31m                 \u001b[0;32mraise\u001b[0m \u001b[0mKeyboardInterrupt\u001b[0m\u001b[0;34m(\u001b[0m\u001b[0;34m\"Interrupted by user\"\u001b[0m\u001b[0;34m)\u001b[0m \u001b[0;32mfrom\u001b[0m \u001b[0;32mNone\u001b[0m\u001b[0;34m\u001b[0m\u001b[0;34m\u001b[0m\u001b[0m\n\u001b[0m\u001b[1;32m   1220\u001b[0m             \u001b[0;32mexcept\u001b[0m \u001b[0mException\u001b[0m\u001b[0;34m:\u001b[0m\u001b[0;34m\u001b[0m\u001b[0;34m\u001b[0m\u001b[0m\n\u001b[1;32m   1221\u001b[0m                 \u001b[0mself\u001b[0m\u001b[0;34m.\u001b[0m\u001b[0mlog\u001b[0m\u001b[0;34m.\u001b[0m\u001b[0mwarning\u001b[0m\u001b[0;34m(\u001b[0m\u001b[0;34m\"Invalid Message:\"\u001b[0m\u001b[0;34m,\u001b[0m \u001b[0mexc_info\u001b[0m\u001b[0;34m=\u001b[0m\u001b[0;32mTrue\u001b[0m\u001b[0;34m)\u001b[0m\u001b[0;34m\u001b[0m\u001b[0;34m\u001b[0m\u001b[0m\n",
            "\u001b[0;31mKeyboardInterrupt\u001b[0m: Interrupted by user"
          ]
        }
      ]
    },
    {
      "cell_type": "code",
      "source": [
        "print(f\"tabla del {n}\")\n",
        "for dolor in range(1,11,1):\n",
        "  print(f\"{dolor} x {n} = {n*dolor}\")"
      ],
      "metadata": {
        "colab": {
          "base_uri": "https://localhost:8080/"
        },
        "id": "TfTysOBxVbkx",
        "outputId": "5296dad4-4762-4c34-b1ad-b672c234c610"
      },
      "execution_count": null,
      "outputs": [
        {
          "output_type": "stream",
          "name": "stdout",
          "text": [
            "tabla del 10\n",
            "1 x 10 = 10\n",
            "2 x 10 = 20\n",
            "3 x 10 = 30\n",
            "4 x 10 = 40\n",
            "5 x 10 = 50\n",
            "6 x 10 = 60\n",
            "7 x 10 = 70\n",
            "8 x 10 = 80\n",
            "9 x 10 = 90\n",
            "10 x 10 = 100\n"
          ]
        }
      ]
    },
    {
      "cell_type": "code",
      "source": [
        "for n in range(1, 11):\n",
        "    for dolor in range(1, 11):\n",
        "        print(f\"{dolor} x {n} = {n*dolor}\")\n"
      ],
      "metadata": {
        "id": "A5ZhT2RbelKo"
      },
      "execution_count": null,
      "outputs": []
    },
    {
      "cell_type": "code",
      "execution_count": null,
      "metadata": {
        "colab": {
          "base_uri": "https://localhost:8080/"
        },
        "id": "FUPJ10CTKjaA",
        "outputId": "51287582-6c1e-40bd-8c7a-89cc31d843c2"
      },
      "outputs": [
        {
          "output_type": "stream",
          "name": "stdout",
          "text": [
            "tablas del 10\n",
            "10 x 0 = 0.0\n",
            "10 x 1 = 10.0\n",
            "10 x 2 = 20.0\n",
            "10 x 3 = 30.0\n",
            "10 x 4 = 40.0\n",
            "10 x 5 = 50.0\n",
            "10 x 6 = 60.0\n",
            "10 x 7 = 70.0\n",
            "10 x 8 = 80.0\n",
            "10 x 9 = 90.0\n",
            "10 x 10 = 100.0\n"
          ]
        }
      ],
      "source": [
        "print(f\"tablas del {n}\")\n",
        "for holitas in range(1,11*n,n):\n",
        "  print(f\"{n} x {int(holitas/n)} = {((n*holitas)/n)-1}\")"
      ]
    },
    {
      "cell_type": "code",
      "source": [
        "#\n",
        "numeros = [1,2,3,4,5,6,7,8,9,10]\n",
        "for numeros in numeros:\n",
        "  print(f\"{n} x {numeros} = {n*numeros}\")"
      ],
      "metadata": {
        "id": "rOZlcGVNhUd1"
      },
      "execution_count": null,
      "outputs": []
    },
    {
      "cell_type": "code",
      "source": [
        "numeros2 = list(range(1,11))\n",
        "numeros2"
      ],
      "metadata": {
        "colab": {
          "base_uri": "https://localhost:8080/"
        },
        "id": "k04qynFOiFNE",
        "outputId": "1c661c73-3770-4f3d-ff3e-54cbd1df1611"
      },
      "execution_count": null,
      "outputs": [
        {
          "output_type": "execute_result",
          "data": {
            "text/plain": [
              "[1, 2, 3, 4, 5, 6, 7, 8, 9, 10]"
            ]
          },
          "metadata": {},
          "execution_count": 68
        }
      ]
    },
    {
      "cell_type": "code",
      "source": [
        "for numeros in numeros2:\n",
        "  print(f\"{n} x {numeros} = {n*numeros}\")\n"
      ],
      "metadata": {
        "id": "4wufOjuTiQO8",
        "outputId": "7b1b06e0-0183-4073-afca-fb44922e9804",
        "colab": {
          "base_uri": "https://localhost:8080/"
        }
      },
      "execution_count": null,
      "outputs": [
        {
          "output_type": "stream",
          "name": "stdout",
          "text": [
            "10 x 1 = 10\n",
            "10 x 2 = 20\n",
            "10 x 3 = 30\n",
            "10 x 4 = 40\n",
            "10 x 5 = 50\n",
            "10 x 6 = 60\n",
            "10 x 7 = 70\n",
            "10 x 8 = 80\n",
            "10 x 9 = 90\n",
            "10 x 10 = 100\n"
          ]
        }
      ]
    },
    {
      "cell_type": "markdown",
      "source": [
        "##listas\n",
        "1. es un tipo de datos\n",
        "2. Forma canonica para declarar una lista,\n",
        "**DEBEN** separarse por comas\n",
        "3. Forma canonica para declarar una lista\n",
        "(variable)=[]\n",
        "\n",
        "EJEMPLO\n",
        "FLORES= [\"amapola\",\"tulipan\", \"lengua de suegra\", dahlia, rosa]"
      ],
      "metadata": {
        "id": "zvSP08uuxM4W"
      }
    },
    {
      "cell_type": "code",
      "source": [
        "dahlia=3 #variabla de tipo numerica, int\n",
        "rosa= \"cinco\" #variable de tipo alfanumerico, str\n",
        "FLORES= [\"amapola\",\"tulipan\", \"lengua de suegra\", dahlia, rosa]"
      ],
      "metadata": {
        "id": "LGLhW9xpyRzw"
      },
      "execution_count": 3,
      "outputs": []
    },
    {
      "cell_type": "markdown",
      "source": [
        "4.Manual\n",
        "\n",
        "lista2=[dato1,dato2,dato3....]\n",
        "5.siempre son finitas\n",
        "6.son indexadas\n",
        "ñosta 2=[dato1,dato2,dato3...datoN)\n",
        "\n",
        "dato1 esta en el index 0\n",
        "dato 2 esta ubicado en el index 1\n",
        "\n",
        "7. estructuras for para la creacion de listas\n",
        "\n",
        "#crear una lista de 5 elementos"
      ],
      "metadata": {
        "id": "Oz_BnU2OyzDX"
      }
    },
    {
      "cell_type": "code",
      "source": [
        "#ejemplo crear una lista de 5 elementos\n",
        "\n",
        "lista=[] #para que el programa sepa que es una lista\n",
        "for ia in range(3):\n",
        "  lista= input(\"ingrese el nombre de una flor\")\n"
      ],
      "metadata": {
        "colab": {
          "base_uri": "https://localhost:8080/"
        },
        "id": "dZTBev1a07Xr",
        "outputId": "1ad53d2c-6838-45dc-bf13-7adf987b02dd"
      },
      "execution_count": 11,
      "outputs": [
        {
          "name": "stdout",
          "output_type": "stream",
          "text": [
            "ingrese el nombre de una floras\n",
            "ingrese el nombre de una flora\n",
            "ingrese el nombre de una florc\n"
          ]
        }
      ]
    },
    {
      "cell_type": "code",
      "source": [
        "#ejemplo crear una lista de 5 elementos\n",
        "\n",
        "ayuda=[] #para que el programa sepa que es una lista\n",
        "for i in range(3):\n",
        "  mevoyamorir=input(\"ingrese el nombre de una flor\")\n",
        "  ayuda.append(mevoyamorir)\n",
        "print(ayuda)"
      ],
      "metadata": {
        "colab": {
          "base_uri": "https://localhost:8080/"
        },
        "id": "pRdSW9de45DY",
        "outputId": "d0eb0aa1-743b-4851-fbd7-2f085fa5191c"
      },
      "execution_count": 3,
      "outputs": [
        {
          "output_type": "stream",
          "name": "stdout",
          "text": [
            "ingrese el nombre de una flora\n",
            "ingrese el nombre de una flors\n",
            "ingrese el nombre de una flord\n",
            "['a', 's', 'd']\n"
          ]
        }
      ]
    },
    {
      "cell_type": "code",
      "source": [
        "usar para con para y listas"
      ],
      "metadata": {
        "id": "byw1j_Y775LV"
      },
      "execution_count": null,
      "outputs": []
    },
    {
      "cell_type": "code",
      "source": [
        "def calcular_promedio():\n",
        "    numeros = []\n",
        "    for i in range(5):\n",
        "        while True:\n",
        "            try:\n",
        "                numero = float(input(f\"Ingrese el número {i+1}: \"))\n",
        "                numeros.append(numero)\n",
        "                break\n",
        "            except ValueError:\n",
        "                print(\"Por favor, ingrese un número válido.\")\n",
        "\n",
        "    suma = sum(numeros)\n",
        "    promedio = suma / len(numeros)\n",
        "    return promedio\n",
        "\n",
        "promedio_final = calcular_promedio()\n",
        "print(f\"El promedio de los números ingresados es: {promedio_final}\")\n",
        "\n",
        "#no profe la verda que punto mas dificil este dios"
      ],
      "metadata": {
        "id": "1DmvQZtz_uMM"
      },
      "execution_count": null,
      "outputs": []
    },
    {
      "cell_type": "markdown",
      "source": [
        "##EJERCICIOS TIPO2"
      ],
      "metadata": {
        "id": "kxnjqZQI8DCQ"
      }
    },
    {
      "cell_type": "code",
      "source": [
        "#primer ejercicio\n",
        "\n",
        "for i in range(1, 11):\n",
        "    print(i)\n"
      ],
      "metadata": {
        "colab": {
          "base_uri": "https://localhost:8080/"
        },
        "id": "wQFdUJx28Hdn",
        "outputId": "ad140aeb-efe3-4a08-eb48-ed28867e5f69"
      },
      "execution_count": 8,
      "outputs": [
        {
          "output_type": "stream",
          "name": "stdout",
          "text": [
            "1\n",
            "2\n",
            "3\n",
            "4\n",
            "5\n",
            "6\n",
            "7\n",
            "8\n",
            "9\n",
            "10\n"
          ]
        }
      ]
    },
    {
      "cell_type": "code",
      "source": [
        "#2 ejercicio\n",
        "suma = 0\n",
        "for i in range(1, 101):\n",
        "    suma += i\n",
        "print(suma)\n"
      ],
      "metadata": {
        "colab": {
          "base_uri": "https://localhost:8080/"
        },
        "id": "pY7LYM8p8JuN",
        "outputId": "26ad9ba1-fe93-47a4-b139-4e34e1abe2f1"
      },
      "execution_count": 12,
      "outputs": [
        {
          "output_type": "stream",
          "name": "stdout",
          "text": [
            "5050\n"
          ]
        }
      ]
    },
    {
      "cell_type": "code",
      "source": [
        "#3 ejercicio\n",
        "for asdasd in range(1, 31):\n",
        "    if i % 3 == 0:\n",
        "        print(asdasd)\n"
      ],
      "metadata": {
        "colab": {
          "base_uri": "https://localhost:8080/"
        },
        "id": "4tITZ1cc8XWt",
        "outputId": "a6089f6b-6223-4859-91d9-baca93fe521e"
      },
      "execution_count": 14,
      "outputs": [
        {
          "output_type": "stream",
          "name": "stdout",
          "text": [
            "3\n",
            "6\n",
            "9\n",
            "12\n",
            "15\n",
            "18\n",
            "21\n",
            "24\n",
            "27\n",
            "30\n"
          ]
        }
      ]
    },
    {
      "cell_type": "code",
      "source": [
        "#4 ejercicio\n",
        "num = int(input(\"Ingresa un número: \"))\n",
        "for i in range(1, 11):\n",
        "    print(f\"{num} x {i} = {num * i}\")\n"
      ],
      "metadata": {
        "colab": {
          "base_uri": "https://localhost:8080/"
        },
        "id": "1iTSxSXB98IT",
        "outputId": "d8541179-01f5-4459-a7c6-cb65a270a057"
      },
      "execution_count": 15,
      "outputs": [
        {
          "output_type": "stream",
          "name": "stdout",
          "text": [
            "Ingresa un número: 3\n",
            "3 x 1 = 3\n",
            "3 x 2 = 6\n",
            "3 x 3 = 9\n",
            "3 x 4 = 12\n",
            "3 x 5 = 15\n",
            "3 x 6 = 18\n",
            "3 x 7 = 21\n",
            "3 x 8 = 24\n",
            "3 x 9 = 27\n",
            "3 x 10 = 30\n"
          ]
        }
      ]
    },
    {
      "cell_type": "code",
      "source": [
        "#5 ejercicio\n",
        "def calcular_promedio():\n",
        "  \"\"\"\n",
        "  Pide 5 números al usuario y calcula su promedio.\n",
        "  \"\"\"\n",
        "  suma = 0\n",
        "  for i in range(5):\n",
        "    while True:\n",
        "      try:\n",
        "        numero = float(input(f\"Ingrese el número {i+1}: \"))\n",
        "        break\n",
        "      except ValueError:\n",
        "        print(\"Entrada inválida. Por favor, ingrese un número.\")\n",
        "    suma += numero\n",
        "  promedio = suma / 5\n",
        "  print(f\"El promedio de los números ingresados es: {promedio}\")\n",
        "\n",
        "calcular_promedio()"
      ],
      "metadata": {
        "colab": {
          "base_uri": "https://localhost:8080/"
        },
        "id": "TYsLIIZr-Qu9",
        "outputId": "073b40f2-3aad-4f05-ad86-6979145ccffe"
      },
      "execution_count": 9,
      "outputs": [
        {
          "output_type": "stream",
          "name": "stdout",
          "text": [
            "Ingrese el número 1: 5\n",
            "Ingrese el número 2: 5\n",
            "Ingrese el número 3: 10\n",
            "Ingrese el número 4: 5\n",
            "Ingrese el número 5: 5\n",
            "El promedio de los números ingresados es: 6.0\n"
          ]
        }
      ]
    },
    {
      "cell_type": "code",
      "source": [
        "#6 ejercicio\n",
        "limite = int(input(\"Ingresa un número: \"))\n",
        "pares = 0\n",
        "for i in range(1, limite + 1):\n",
        "    if i % 2 == 0:\n",
        "        pares += 1\n",
        "print(\"Cantidad de números pares:\", pares)\n",
        "\n"
      ],
      "metadata": {
        "colab": {
          "base_uri": "https://localhost:8080/"
        },
        "id": "lM90JzOX_k0y",
        "outputId": "196458e4-8201-4caf-c3dd-91b7268e4743"
      },
      "execution_count": 37,
      "outputs": [
        {
          "output_type": "stream",
          "name": "stdout",
          "text": [
            "Ingresa un número: 5\n",
            "Cantidad de números pares: 2\n"
          ]
        }
      ]
    },
    {
      "cell_type": "code",
      "source": [
        "#7 ejercicio\n",
        "apellido = input(\"Ingresa tu apellido: \")\n",
        "clave_valida = apellido + str(len(apellido))\n",
        "\n",
        "\n",
        "\n",
        "while True:\n",
        "    clave = input(\"Ingresa la contraseña: \")\n",
        "    if clave == clave_valida:\n",
        "        print(\"Contraseña válida.\")\n",
        "        break\n",
        "    else:\n",
        "        print(f\"Contraseña incorrecta. \")\n",
        "\n"
      ],
      "metadata": {
        "colab": {
          "base_uri": "https://localhost:8080/"
        },
        "id": "of_Y1e2y_3ey",
        "outputId": "e2866bb1-164a-443c-b2b2-85ba5c750797"
      },
      "execution_count": 41,
      "outputs": [
        {
          "output_type": "stream",
          "name": "stdout",
          "text": [
            "Ingresa tu apellido: lucas\n",
            "Ingresa la contraseña: lucas5\n",
            "Contraseña válida.\n"
          ]
        }
      ]
    },
    {
      "cell_type": "code",
      "source": [
        "#8 ejercicio\n",
        "n = int(input(\"¿Cuántos números de Fibonacci quieres ver? \"))\n",
        "a, b = 0, 1\n",
        "for i in range(n):\n",
        "    print(a)\n",
        "    a, b = b, a + b\n"
      ],
      "metadata": {
        "colab": {
          "base_uri": "https://localhost:8080/"
        },
        "id": "XIhJRlZi_4_C",
        "outputId": "58452a2d-9463-45e9-c838-89c31aa81bdd"
      },
      "execution_count": 43,
      "outputs": [
        {
          "output_type": "stream",
          "name": "stdout",
          "text": [
            "¿Cuántos números de Fibonacci quieres ver? 7\n",
            "0\n",
            "1\n",
            "1\n",
            "2\n",
            "3\n",
            "5\n",
            "8\n"
          ]
        }
      ]
    },
    {
      "cell_type": "code",
      "source": [
        "#9 ejercicio\n",
        "num = int(input(\"Ingresa un número: \"))\n",
        "es_primo = True\n",
        "\n",
        "if num < 2:\n",
        "    es_primo = False\n",
        "else:\n",
        "    for i in range(2, int(num ** 0.5) + 1):\n",
        "        if num % i == 0:\n",
        "            es_primo = False\n",
        "            break\n",
        "\n",
        "if es_primo:\n",
        "    print(f\"{num} es un número primo.\")\n",
        "else:\n",
        "    print(f\"{num} no es un número primo.\")\n"
      ],
      "metadata": {
        "colab": {
          "base_uri": "https://localhost:8080/"
        },
        "id": "77lyCGVK_5J1",
        "outputId": "f033aa70-b104-4027-eebe-282eb9d9921f"
      },
      "execution_count": 46,
      "outputs": [
        {
          "output_type": "stream",
          "name": "stdout",
          "text": [
            "Ingresa un número: 79\n",
            "79 es un número primo.\n"
          ]
        }
      ]
    },
    {
      "cell_type": "code",
      "source": [
        "#10 ejercicio\n",
        "cantidad = int(input(\"¿Cuántos números vas a ingresar?: \"))\n",
        "positivos = negativos = ceros = 0\n",
        "\n",
        "for i in range(cantidad):\n",
        "    num = float(input(f\"Ingresa el número {i+1}: \"))\n",
        "    if num > 0:\n",
        "        positivos += 1\n",
        "    elif num < 0:\n",
        "        negativos += 1\n",
        "    else:\n",
        "        ceros += 1\n",
        "\n",
        "print(\"Positivos:\", positivos)\n",
        "print(\"Negativos:\", negativos)\n",
        "print(\"Ceros:\", ceros)"
      ],
      "metadata": {
        "colab": {
          "base_uri": "https://localhost:8080/"
        },
        "id": "XZ6_QunCDAXA",
        "outputId": "dcfe014b-e0b1-4bd7-a169-1de87b5e86c1"
      },
      "execution_count": 5,
      "outputs": [
        {
          "output_type": "stream",
          "name": "stdout",
          "text": [
            "¿Cuántos números vas a ingresar?: 3\n",
            "Ingresa el número 1: -4\n",
            "Ingresa el número 2: 0\n",
            "Ingresa el número 3: 3\n",
            "Positivos: 1\n",
            "Negativos: 1\n",
            "Ceros: 1\n"
          ]
        }
      ]
    },
    {
      "cell_type": "code",
      "source": [
        "#1.2 ejercicio\n",
        "numeros = list(range(1, 11))\n",
        "for numero in numeros:\n",
        "    print(numero)"
      ],
      "metadata": {
        "id": "UnlD1hreEFSI"
      },
      "execution_count": null,
      "outputs": []
    },
    {
      "cell_type": "code",
      "source": [
        "#2.2 ejercicio\n",
        "numeros = list(range(1, 101))\n",
        "suma = sum(numeros)\n",
        "print(suma)"
      ],
      "metadata": {
        "id": "2ewvM8YKDaOw"
      },
      "execution_count": null,
      "outputs": []
    },
    {
      "cell_type": "code",
      "source": [
        "#3.2 ejercicio\n",
        "tres = [i for i in range(1, 31) if i % 3 == 0]\n",
        "for numero in tres:\n",
        "    print(numero)"
      ],
      "metadata": {
        "colab": {
          "base_uri": "https://localhost:8080/"
        },
        "id": "Wd87-KrBDe4v",
        "outputId": "3ccbcf25-bafc-4eff-eae6-c840cf901b76"
      },
      "execution_count": 10,
      "outputs": [
        {
          "output_type": "stream",
          "name": "stdout",
          "text": [
            "3\n",
            "6\n",
            "9\n",
            "12\n",
            "15\n",
            "18\n",
            "21\n",
            "24\n",
            "27\n",
            "30\n"
          ]
        }
      ]
    },
    {
      "cell_type": "code",
      "source": [
        "#4.2 ejercicio\n",
        "num = int(input(\"Ingresa un número: \"))\n",
        "tabla = [num * i for i in range(1, 11)]\n",
        "for resultado in tabla:\n",
        "    print(resultado)"
      ],
      "metadata": {
        "id": "weX8QcuWFPtP"
      },
      "execution_count": null,
      "outputs": []
    },
    {
      "cell_type": "code",
      "source": [
        "#5.2 ejercicio\n",
        "def espalda5():\n",
        "    numeros = []\n",
        "    for i in range(5):\n",
        "        while True:\n",
        "            try:\n",
        "                numero = float(input(f\"Ingrese el número {i+1}: \"))\n",
        "                numeros.append(numero)\n",
        "                break\n",
        "            except ValueError:\n",
        "                print(\"Entrada inválida. Por favor, ingrese un número.\")\n",
        "    promedio = sum(numeros) / len(numeros)\n",
        "    print(f\"El promedio de los números ingresados es: {promedio}\")\n",
        "\n",
        "espalda()"
      ],
      "metadata": {
        "id": "_WhU9CI9FZAw"
      },
      "execution_count": null,
      "outputs": []
    },
    {
      "cell_type": "code",
      "source": [
        "#6.2 ejercicio\n",
        "\n",
        "dios = int(input(\"Ingresa un número: \"))\n",
        "pares = [i for i in range(1, dios + 1) if i % 2 == 0]\n",
        "print(\"Cantidad de números pares:\", len(pares))"
      ],
      "metadata": {
        "colab": {
          "base_uri": "https://localhost:8080/"
        },
        "id": "XUfSBFu6FZUe",
        "outputId": "2526b027-af17-4c82-fd83-60de917df354"
      },
      "execution_count": 17,
      "outputs": [
        {
          "output_type": "stream",
          "name": "stdout",
          "text": [
            "Ingresa un número: 10\n",
            "Cantidad de números pares: 5\n"
          ]
        }
      ]
    },
    {
      "cell_type": "code",
      "source": [
        "#7.2 ejercicio\n",
        "\n",
        "apellido = input(\"Ingresa tu apellido: \")\n",
        "clave_valida = apellido + str(len(apellido))\n",
        "contraseñas = []\n",
        "while True:\n",
        "    clave = input(\"Ingresa la contraseña: \")\n",
        "    contraseñas.append(clave)\n",
        "    if clave == clave_valida:\n",
        "        print(\"Contraseña válida.\")\n",
        "        break\n",
        "    else:\n",
        "        print(f\"Contraseña incorrecta.\")\n",
        "\n",
        "\n",
        "print(\"Contraseñas ingresadas:\", contraseñas)"
      ],
      "metadata": {
        "id": "_pUoPw-2FZmW"
      },
      "execution_count": null,
      "outputs": []
    },
    {
      "cell_type": "code",
      "source": [
        "#8.2 ejercicio\n",
        "\n",
        "n = int(input(\"¿Cuántos números de Fibonacci quieres ver? \"))\n",
        "serie_fibonacci = []\n",
        "a, b = 0, 1\n",
        "for _ in range(n):\n",
        "    serie_fibonacci.append(a)\n",
        "    a, b = b, a + b\n",
        "print(serie_fibonacci)"
      ],
      "metadata": {
        "id": "DtjE3MwpFdxm"
      },
      "execution_count": null,
      "outputs": []
    },
    {
      "cell_type": "code",
      "source": [
        "#9.2 ejercicio\n",
        "num = int(input(\"Ingresa un número: \"))\n",
        "es_primo = True\n",
        "if num < 2:\n",
        "    es_primo = False\n",
        "else:\n",
        "    for i in range(2, int(num ** 0.5) + 1):\n",
        "        if num % i == 0:\n",
        "            es_primo = False\n",
        "            break\n",
        "if es_primo:\n",
        "    print(f\"{num} es un número primo.\")\n",
        "else:\n",
        "    print(f\"{num} no es un número primo.\")"
      ],
      "metadata": {
        "id": "CJLNv3pZFfFG"
      },
      "execution_count": null,
      "outputs": []
    },
    {
      "cell_type": "code",
      "source": [
        "#10.2 ejercicio\n",
        "cantidad = int(input(\"¿Cuántos números vas a ingresar?: \"))\n",
        "numeros = []\n",
        "positivos = []\n",
        "negativos = []\n",
        "ceros = []\n",
        "for i in range(cantidad):\n",
        "    num = float(input(f\"Ingresa el número {i+1}: \"))\n",
        "    numeros.append(num)\n",
        "    if num > 0:\n",
        "        positivos.append(num)\n",
        "    elif num < 0:\n",
        "        negativos.append(num)\n",
        "    else:\n",
        "        ceros.append(num)\n",
        "print(\"Positivos:\", len(positivos))\n",
        "print(\"Negativos:\", len(negativos))\n",
        "print(\"Ceros:\", len(ceros))"
      ],
      "metadata": {
        "id": "_r5vvINeFfkO"
      },
      "execution_count": null,
      "outputs": []
    }
  ]
}