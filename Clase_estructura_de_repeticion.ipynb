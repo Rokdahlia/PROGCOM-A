{
  "nbformat": 4,
  "nbformat_minor": 0,
  "metadata": {
    "colab": {
      "provenance": [],
      "authorship_tag": "ABX9TyMHnLTGbgsa3rB5VUBEN1Uh",
      "include_colab_link": true
    },
    "kernelspec": {
      "name": "python3",
      "display_name": "Python 3"
    },
    "language_info": {
      "name": "python"
    }
  },
  "cells": [
    {
      "cell_type": "markdown",
      "metadata": {
        "id": "view-in-github",
        "colab_type": "text"
      },
      "source": [
        "<a href=\"https://colab.research.google.com/github/Rokdahlia/PROGCOM-A/blob/main/Clase_estructura_de_repeticion.ipynb\" target=\"_parent\"><img src=\"https://colab.research.google.com/assets/colab-badge.svg\" alt=\"Open In Colab\"/></a>"
      ]
    },
    {
      "cell_type": "markdown",
      "source": [
        "#Estructuras de repeticion\n",
        "permite repetir una o mas acciones de acuerdo con una condicion---------------------------"
      ],
      "metadata": {
        "id": "Wb8UslcPSCBs"
      }
    },
    {
      "cell_type": "markdown",
      "source": [
        "#estructura para for\n",
        "\n",
        "1. Cuando se sabe cuantas veces se repite una accion.\n",
        "2. esta conformado por una condicion inicial (CI) una condicion final (cf) y pasos (frecuencia de repeticion).\n",
        "3. Esta estrucura no se dentendra, hasta alcanzar CF-1\n",
        "\n",
        "ESTRUCTURA GENERAL DEL FOR\n",
        "for (variable) in range (CI, CF+1, paso):\n",
        "\n",
        "Estructura resumida fel for\n",
        "\n",
        "for(variable in range(cantidad):\n",
        " Se repite cantidad de veces una accion\n",
        "\n",
        " estructura for como iteracion\n",
        "\n",
        "  #tiene formato de codigo\n",
        "\n",
        "  lista=[1,2,3,4,5]\n",
        "  for variable in lista:\n",
        "   \n",
        "   se repite len(lista)"
      ],
      "metadata": {
        "id": "QrZbgnVxSrVz"
      }
    },
    {
      "cell_type": "code",
      "source": [
        "#hacer la tabla de multiplicar de un numero n\n",
        "n=int(input(\"digita numero:\"))\n"
      ],
      "metadata": {
        "colab": {
          "base_uri": "https://localhost:8080/",
          "height": 304
        },
        "id": "6QBOIwsMVMyJ",
        "outputId": "77106b13-cc6b-436c-c2d0-108804bce1db"
      },
      "execution_count": 54,
      "outputs": [
        {
          "output_type": "error",
          "ename": "KeyboardInterrupt",
          "evalue": "Interrupted by user",
          "traceback": [
            "\u001b[0;31m---------------------------------------------------------------------------\u001b[0m",
            "\u001b[0;31mKeyboardInterrupt\u001b[0m                         Traceback (most recent call last)",
            "\u001b[0;32m/tmp/ipython-input-2618757161.py\u001b[0m in \u001b[0;36m<cell line: 0>\u001b[0;34m()\u001b[0m\n\u001b[1;32m      1\u001b[0m \u001b[0;31m#hacer la tabla de multiplicar de un numero n\u001b[0m\u001b[0;34m\u001b[0m\u001b[0;34m\u001b[0m\u001b[0m\n\u001b[0;32m----> 2\u001b[0;31m \u001b[0mn\u001b[0m\u001b[0;34m=\u001b[0m\u001b[0mint\u001b[0m\u001b[0;34m(\u001b[0m\u001b[0minput\u001b[0m\u001b[0;34m(\u001b[0m\u001b[0;34m\"digita numero:\"\u001b[0m\u001b[0;34m)\u001b[0m\u001b[0;34m)\u001b[0m\u001b[0;34m\u001b[0m\u001b[0;34m\u001b[0m\u001b[0m\n\u001b[0m",
            "\u001b[0;32m/usr/local/lib/python3.11/dist-packages/ipykernel/kernelbase.py\u001b[0m in \u001b[0;36mraw_input\u001b[0;34m(self, prompt)\u001b[0m\n\u001b[1;32m   1175\u001b[0m                 \u001b[0;34m\"raw_input was called, but this frontend does not support input requests.\"\u001b[0m\u001b[0;34m\u001b[0m\u001b[0;34m\u001b[0m\u001b[0m\n\u001b[1;32m   1176\u001b[0m             )\n\u001b[0;32m-> 1177\u001b[0;31m         return self._input_request(\n\u001b[0m\u001b[1;32m   1178\u001b[0m             \u001b[0mstr\u001b[0m\u001b[0;34m(\u001b[0m\u001b[0mprompt\u001b[0m\u001b[0;34m)\u001b[0m\u001b[0;34m,\u001b[0m\u001b[0;34m\u001b[0m\u001b[0;34m\u001b[0m\u001b[0m\n\u001b[1;32m   1179\u001b[0m             \u001b[0mself\u001b[0m\u001b[0;34m.\u001b[0m\u001b[0m_parent_ident\u001b[0m\u001b[0;34m[\u001b[0m\u001b[0;34m\"shell\"\u001b[0m\u001b[0;34m]\u001b[0m\u001b[0;34m,\u001b[0m\u001b[0;34m\u001b[0m\u001b[0;34m\u001b[0m\u001b[0m\n",
            "\u001b[0;32m/usr/local/lib/python3.11/dist-packages/ipykernel/kernelbase.py\u001b[0m in \u001b[0;36m_input_request\u001b[0;34m(self, prompt, ident, parent, password)\u001b[0m\n\u001b[1;32m   1217\u001b[0m             \u001b[0;32mexcept\u001b[0m \u001b[0mKeyboardInterrupt\u001b[0m\u001b[0;34m:\u001b[0m\u001b[0;34m\u001b[0m\u001b[0;34m\u001b[0m\u001b[0m\n\u001b[1;32m   1218\u001b[0m                 \u001b[0;31m# re-raise KeyboardInterrupt, to truncate traceback\u001b[0m\u001b[0;34m\u001b[0m\u001b[0;34m\u001b[0m\u001b[0m\n\u001b[0;32m-> 1219\u001b[0;31m                 \u001b[0;32mraise\u001b[0m \u001b[0mKeyboardInterrupt\u001b[0m\u001b[0;34m(\u001b[0m\u001b[0;34m\"Interrupted by user\"\u001b[0m\u001b[0;34m)\u001b[0m \u001b[0;32mfrom\u001b[0m \u001b[0;32mNone\u001b[0m\u001b[0;34m\u001b[0m\u001b[0;34m\u001b[0m\u001b[0m\n\u001b[0m\u001b[1;32m   1220\u001b[0m             \u001b[0;32mexcept\u001b[0m \u001b[0mException\u001b[0m\u001b[0;34m:\u001b[0m\u001b[0;34m\u001b[0m\u001b[0;34m\u001b[0m\u001b[0m\n\u001b[1;32m   1221\u001b[0m                 \u001b[0mself\u001b[0m\u001b[0;34m.\u001b[0m\u001b[0mlog\u001b[0m\u001b[0;34m.\u001b[0m\u001b[0mwarning\u001b[0m\u001b[0;34m(\u001b[0m\u001b[0;34m\"Invalid Message:\"\u001b[0m\u001b[0;34m,\u001b[0m \u001b[0mexc_info\u001b[0m\u001b[0;34m=\u001b[0m\u001b[0;32mTrue\u001b[0m\u001b[0;34m)\u001b[0m\u001b[0;34m\u001b[0m\u001b[0;34m\u001b[0m\u001b[0m\n",
            "\u001b[0;31mKeyboardInterrupt\u001b[0m: Interrupted by user"
          ]
        }
      ]
    },
    {
      "cell_type": "code",
      "source": [
        "print(f\"tabla del {n}\")\n",
        "for dolor in range(1,11,1):\n",
        "  print(f\"{dolor} x {n} = {n*dolor}\")"
      ],
      "metadata": {
        "colab": {
          "base_uri": "https://localhost:8080/"
        },
        "id": "TfTysOBxVbkx",
        "outputId": "5296dad4-4762-4c34-b1ad-b672c234c610"
      },
      "execution_count": 53,
      "outputs": [
        {
          "output_type": "stream",
          "name": "stdout",
          "text": [
            "tabla del 10\n",
            "1 x 10 = 10\n",
            "2 x 10 = 20\n",
            "3 x 10 = 30\n",
            "4 x 10 = 40\n",
            "5 x 10 = 50\n",
            "6 x 10 = 60\n",
            "7 x 10 = 70\n",
            "8 x 10 = 80\n",
            "9 x 10 = 90\n",
            "10 x 10 = 100\n"
          ]
        }
      ]
    },
    {
      "cell_type": "code",
      "source": [
        "for n in range(1, 11):\n",
        "    for dolor in range(1, 11):\n",
        "        print(f\"{dolor} x {n} = {n*dolor}\")\n"
      ],
      "metadata": {
        "id": "A5ZhT2RbelKo"
      },
      "execution_count": null,
      "outputs": []
    },
    {
      "cell_type": "code",
      "execution_count": 59,
      "metadata": {
        "colab": {
          "base_uri": "https://localhost:8080/"
        },
        "id": "FUPJ10CTKjaA",
        "outputId": "51287582-6c1e-40bd-8c7a-89cc31d843c2"
      },
      "outputs": [
        {
          "output_type": "stream",
          "name": "stdout",
          "text": [
            "tablas del 10\n",
            "10 x 0 = 0.0\n",
            "10 x 1 = 10.0\n",
            "10 x 2 = 20.0\n",
            "10 x 3 = 30.0\n",
            "10 x 4 = 40.0\n",
            "10 x 5 = 50.0\n",
            "10 x 6 = 60.0\n",
            "10 x 7 = 70.0\n",
            "10 x 8 = 80.0\n",
            "10 x 9 = 90.0\n",
            "10 x 10 = 100.0\n"
          ]
        }
      ],
      "source": [
        "print(f\"tablas del {n}\")\n",
        "for holitas in range(1,11*n,n):\n",
        "  print(f\"{n} x {int(holitas/n)} = {((n*holitas)/n)-1}\")"
      ]
    },
    {
      "cell_type": "code",
      "source": [
        "#\n",
        "numeros = [1,2,3,4,5,6,7,8,9,10]\n",
        "for numeros in numeros:\n",
        "  print(f\"{n} x {numeros} = {n*numeros}\")"
      ],
      "metadata": {
        "id": "rOZlcGVNhUd1"
      },
      "execution_count": null,
      "outputs": []
    },
    {
      "cell_type": "code",
      "source": [
        "numeros2 = list(range(1,11))\n",
        "numeros2"
      ],
      "metadata": {
        "colab": {
          "base_uri": "https://localhost:8080/"
        },
        "id": "k04qynFOiFNE",
        "outputId": "1c661c73-3770-4f3d-ff3e-54cbd1df1611"
      },
      "execution_count": 68,
      "outputs": [
        {
          "output_type": "execute_result",
          "data": {
            "text/plain": [
              "[1, 2, 3, 4, 5, 6, 7, 8, 9, 10]"
            ]
          },
          "metadata": {},
          "execution_count": 68
        }
      ]
    },
    {
      "cell_type": "code",
      "source": [
        "for numeros in numeros2:\n",
        "  print(f\"{n} x {numeros} = {n*numeros}\")\n"
      ],
      "metadata": {
        "colab": {
          "base_uri": "https://localhost:8080/"
        },
        "id": "4wufOjuTiQO8",
        "outputId": "7b1b06e0-0183-4073-afca-fb44922e9804"
      },
      "execution_count": 69,
      "outputs": [
        {
          "output_type": "stream",
          "name": "stdout",
          "text": [
            "10 x 1 = 10\n",
            "10 x 2 = 20\n",
            "10 x 3 = 30\n",
            "10 x 4 = 40\n",
            "10 x 5 = 50\n",
            "10 x 6 = 60\n",
            "10 x 7 = 70\n",
            "10 x 8 = 80\n",
            "10 x 9 = 90\n",
            "10 x 10 = 100\n"
          ]
        }
      ]
    }
  ]
}