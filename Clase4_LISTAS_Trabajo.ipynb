{
  "nbformat": 4,
  "nbformat_minor": 0,
  "metadata": {
    "colab": {
      "provenance": [],
      "include_colab_link": true
    },
    "kernelspec": {
      "name": "python3",
      "display_name": "Python 3"
    },
    "language_info": {
      "name": "python"
    }
  },
  "cells": [
    {
      "cell_type": "markdown",
      "metadata": {
        "id": "view-in-github",
        "colab_type": "text"
      },
      "source": [
        "<a href=\"https://colab.research.google.com/github/Rokdahlia/PROGCOM-A/blob/main/Clase4_LISTAS_Trabajo.ipynb\" target=\"_parent\"><img src=\"https://colab.research.google.com/assets/colab-badge.svg\" alt=\"Open In Colab\"/></a>"
      ]
    },
    {
      "cell_type": "markdown",
      "source": [
        "###1"
      ],
      "metadata": {
        "id": "7RdcJeec9CxT"
      }
    },
    {
      "cell_type": "code",
      "source": [
        "for s in range(1,11,1):\n",
        "  print(f\"{s}^2 es: {s**2}\")"
      ],
      "metadata": {
        "colab": {
          "base_uri": "https://localhost:8080/"
        },
        "id": "7Lw2-HIj9ICt",
        "outputId": "f79e58d0-1af0-4de4-b3ee-afb3fb1af1e9"
      },
      "execution_count": null,
      "outputs": [
        {
          "output_type": "stream",
          "name": "stdout",
          "text": [
            "1^2 es: 1\n",
            "2^2 es: 4\n",
            "3^2 es: 9\n",
            "4^2 es: 16\n",
            "5^2 es: 25\n",
            "6^2 es: 36\n",
            "7^2 es: 49\n",
            "8^2 es: 64\n",
            "9^2 es: 81\n",
            "10^2 es: 100\n"
          ]
        }
      ]
    },
    {
      "cell_type": "markdown",
      "source": [
        "###2\n"
      ],
      "metadata": {
        "id": "VogrcKS49OkJ"
      }
    },
    {
      "cell_type": "code",
      "source": [
        "lucas=[a for a in range(0,21) if a %2==0]\n",
        "print(lucas)"
      ],
      "metadata": {
        "colab": {
          "base_uri": "https://localhost:8080/"
        },
        "id": "DxyOWnpZ9QK2",
        "outputId": "b504c68a-bf0c-41fe-81d5-ccdf297d8f4e"
      },
      "execution_count": null,
      "outputs": [
        {
          "output_type": "stream",
          "name": "stdout",
          "text": [
            "[0, 2, 4, 6, 8, 10, 12, 14, 16, 18, 20]\n"
          ]
        }
      ]
    },
    {
      "cell_type": "markdown",
      "source": [
        "###3"
      ],
      "metadata": {
        "id": "bHa3bgc69SvN"
      }
    },
    {
      "cell_type": "code",
      "source": [
        "sopas=[]\n",
        "for am in range(1,6):\n",
        "  print(f\"{am} X 2={am*2}\")\n",
        "  b=am*2\n",
        "  sopas.append(b)\n",
        "print(sopas)"
      ],
      "metadata": {
        "colab": {
          "base_uri": "https://localhost:8080/"
        },
        "id": "_4pa5Hru9U0x",
        "outputId": "d9db0b12-a243-4ccd-d4c1-caf3d80c892a"
      },
      "execution_count": null,
      "outputs": [
        {
          "output_type": "stream",
          "name": "stdout",
          "text": [
            "1 X 2=2\n",
            "2 X 2=4\n",
            "3 X 2=6\n",
            "4 X 2=8\n",
            "5 X 2=10\n",
            "[2, 4, 6, 8, 10]\n"
          ]
        }
      ]
    },
    {
      "cell_type": "markdown",
      "source": [
        "###4\n"
      ],
      "metadata": {
        "id": "Z1Jf1cRE9XXi"
      }
    },
    {
      "cell_type": "code",
      "source": [
        "yu=(\"programacion\")\n",
        "papas = [ra for ra in yu if ra in \"aeiou\"]\n",
        "print(papas)"
      ],
      "metadata": {
        "colab": {
          "base_uri": "https://localhost:8080/"
        },
        "id": "heQjMOye9oeH",
        "outputId": "61c2a4fa-6d50-4b0a-cc98-82f13ba253a6"
      },
      "execution_count": 1,
      "outputs": [
        {
          "output_type": "stream",
          "name": "stdout",
          "text": [
            "['o', 'a', 'a', 'i', 'o']\n"
          ]
        }
      ]
    },
    {
      "cell_type": "markdown",
      "source": [
        "###5"
      ],
      "metadata": {
        "id": "xOIKVtT19XwG"
      }
    },
    {
      "cell_type": "code",
      "source": [
        "uy=[\"python\",\"java\",\"c++\"]\n",
        "al=[ui.upper() for ui in uy]\n",
        "print(al)"
      ],
      "metadata": {
        "colab": {
          "base_uri": "https://localhost:8080/"
        },
        "id": "YVo1gZra9oLP",
        "outputId": "67297351-58cc-4e6e-e356-4bf4370dc1cc"
      },
      "execution_count": null,
      "outputs": [
        {
          "output_type": "stream",
          "name": "stdout",
          "text": [
            "['PYTHON', 'JAVA', 'C++']\n"
          ]
        }
      ]
    },
    {
      "cell_type": "markdown",
      "source": [
        "###6\n"
      ],
      "metadata": {
        "id": "42EdnsW49YOk"
      }
    },
    {
      "cell_type": "code",
      "source": [
        "op=[]\n",
        "def ty():\n",
        "  ju=[oi for oi in range(1,11) if oi %2==0]\n",
        "  print(ju)\n",
        "def tu():\n",
        "  oh=[gj for gj in range(1,11) if gj %2!=0]\n",
        "  print(oh)\n",
        "u=input(\"Deseas conocer la lista del 1 al 10 en par o impar \")\n",
        "if u == \"par\" or u == \"PAR\":\n",
        "  ty()\n",
        "else:\n",
        "  tu()"
      ],
      "metadata": {
        "colab": {
          "base_uri": "https://localhost:8080/"
        },
        "id": "xM-YLavH9n8D",
        "outputId": "0c08ab45-cdcd-49a2-800c-b22118513bcf"
      },
      "execution_count": 4,
      "outputs": [
        {
          "output_type": "stream",
          "name": "stdout",
          "text": [
            "Deseas conocer la lista del 1 al 10 en par o impar 2\n",
            "[1, 3, 5, 7, 9]\n"
          ]
        }
      ]
    },
    {
      "cell_type": "markdown",
      "source": [
        "###7"
      ],
      "metadata": {
        "id": "_lfA7LvM9YnC"
      }
    },
    {
      "cell_type": "code",
      "source": [
        "g=[]\n",
        "for io in range(1,6):\n",
        "  t=(io,io**2)\n",
        "  g.append(t)\n",
        "print(g)"
      ],
      "metadata": {
        "colab": {
          "base_uri": "https://localhost:8080/"
        },
        "id": "bAupmYp69nZx",
        "outputId": "120f3872-128b-47ad-b9e1-7ff92df9f9fd"
      },
      "execution_count": null,
      "outputs": [
        {
          "output_type": "stream",
          "name": "stdout",
          "text": [
            "[(1, 1), (2, 4), (3, 9), (4, 16), (5, 25)]\n"
          ]
        }
      ]
    },
    {
      "cell_type": "code",
      "source": [
        "po = [(rt, rt**2) for rt in range(1, 6)]\n",
        "print(po)"
      ],
      "metadata": {
        "colab": {
          "base_uri": "https://localhost:8080/"
        },
        "id": "fURo587y9mdX",
        "outputId": "1271b79d-cd5d-43c1-b2fb-4d024bb2c0af"
      },
      "execution_count": null,
      "outputs": [
        {
          "output_type": "stream",
          "name": "stdout",
          "text": [
            "[(1, 1), (2, 4), (3, 9), (4, 16), (5, 25)]\n"
          ]
        }
      ]
    },
    {
      "cell_type": "markdown",
      "source": [
        "###8\n"
      ],
      "metadata": {
        "id": "d5Qd_N619Y4r"
      }
    },
    {
      "cell_type": "code",
      "source": [
        "l= [\"a\", \"b\", \"c\"]\n",
        "n= [1, 2, 3]\n",
        "tr=[(t,i) for t in l for i in n]\n",
        "print(tr)"
      ],
      "metadata": {
        "colab": {
          "base_uri": "https://localhost:8080/"
        },
        "id": "ihHLvKar-I7N",
        "outputId": "afdb666f-e7ab-4cac-e03f-6bd405079e7a"
      },
      "execution_count": null,
      "outputs": [
        {
          "output_type": "stream",
          "name": "stdout",
          "text": [
            "[('a', 1), ('a', 2), ('a', 3), ('b', 1), ('b', 2), ('b', 3), ('c', 1), ('c', 2), ('c', 3)]\n"
          ]
        }
      ]
    },
    {
      "cell_type": "markdown",
      "source": [
        "###9"
      ],
      "metadata": {
        "id": "PtiESoXv9ZPF"
      }
    },
    {
      "cell_type": "code",
      "source": [
        "o=[\"sol\",\"estrella\",\"mar\",\"planeta\"]\n",
        "acho=[r for r in o if len(r)>=4]\n",
        "print(acho)"
      ],
      "metadata": {
        "colab": {
          "base_uri": "https://localhost:8080/"
        },
        "id": "j85QjyYK9l9e",
        "outputId": "5b0c3199-9425-4083-d5bc-3008315404f9"
      },
      "execution_count": null,
      "outputs": [
        {
          "output_type": "stream",
          "name": "stdout",
          "text": [
            "['estrella', 'planeta']\n"
          ]
        }
      ]
    },
    {
      "cell_type": "markdown",
      "source": [
        "###10"
      ],
      "metadata": {
        "id": "llY3ky0v-TJO"
      }
    },
    {
      "cell_type": "code",
      "source": [
        "import random\n",
        "tem=[random.randint(10,35) for a in range(10)]\n",
        "cl=[f\"{t}°C --> frio\" if t < 18 else f\"{t}°C --> templado\" if t<=25 else f\"{t}°C --> calido\" for t in tem]\n",
        "print(\"\\n\".join(cl))"
      ],
      "metadata": {
        "colab": {
          "base_uri": "https://localhost:8080/"
        },
        "id": "Zi-HIb-2-VTD",
        "outputId": "da235ef1-d429-40f8-9aea-2dbe73a70ee5"
      },
      "execution_count": null,
      "outputs": [
        {
          "output_type": "stream",
          "name": "stdout",
          "text": [
            "21°C --> templado\n",
            "22°C --> templado\n",
            "23°C --> templado\n",
            "14°C --> frio\n",
            "20°C --> templado\n",
            "28°C --> calido\n",
            "24°C --> templado\n",
            "10°C --> frio\n",
            "12°C --> frio\n",
            "19°C --> templado\n"
          ]
        }
      ]
    }
  ]
}